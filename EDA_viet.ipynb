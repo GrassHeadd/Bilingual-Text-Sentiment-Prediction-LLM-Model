{
 "cells": [
  {
   "cell_type": "markdown",
   "id": "4e16e7e5",
   "metadata": {},
   "source": [
    "# Part 1.1 Exploratory Data Analysis (Vietnamese)"
   ]
  },
  {
   "cell_type": "markdown",
   "id": "e958a47c",
   "metadata": {},
   "source": [
    "## EDA on Vietnamese Dataset"
   ]
  },
  {
   "cell_type": "code",
   "execution_count": 1,
   "id": "96985f2a",
   "metadata": {},
   "outputs": [],
   "source": [
    "from collections import Counter\n",
    "\n",
    "from datasets import load_dataset\n",
    "import matplotlib.pyplot as plt\n",
    "import pandas as pd\n",
    "import seaborn as sns\n",
    "from sklearn.feature_extraction.text import CountVectorizer"
   ]
  },
  {
   "cell_type": "code",
   "execution_count": 2,
   "id": "38bedb73",
   "metadata": {},
   "outputs": [
    {
     "name": "stdout",
     "output_type": "stream",
     "text": [
      "DatasetDict({\n",
      "    train: Dataset({\n",
      "        features: ['sentence', 'sentiment', 'topic'],\n",
      "        num_rows: 11426\n",
      "    })\n",
      "    validation: Dataset({\n",
      "        features: ['sentence', 'sentiment', 'topic'],\n",
      "        num_rows: 1583\n",
      "    })\n",
      "    test: Dataset({\n",
      "        features: ['sentence', 'sentiment', 'topic'],\n",
      "        num_rows: 3166\n",
      "    })\n",
      "})\n",
      "{'sentence': Value(dtype='string', id=None), 'sentiment': ClassLabel(names=['negative', 'neutral', 'positive'], id=None), 'topic': ClassLabel(names=['lecturer', 'training_program', 'facility', 'others'], id=None)}\n",
      "{'sentence': 'slide giáo trình đầy đủ .', 'sentiment': 2, 'topic': 1}\n"
     ]
    }
   ],
   "source": [
    "ds_viet = load_dataset(\"uitnlp/vietnamese_students_feedback\")\n",
    "\n",
    "print(ds_viet)\n",
    "print(ds_viet[\"train\"].features)\n",
    "print(ds_viet[\"train\"][0])"
   ]
  },
  {
   "cell_type": "code",
   "execution_count": 3,
   "id": "547df559",
   "metadata": {},
   "outputs": [
    {
     "name": "stdout",
     "output_type": "stream",
     "text": [
      "Total # of samples: 11426\n",
      "--------------------\n",
      "Sentiment counts:\n",
      "2    5643\n",
      "0    5325\n",
      "1     458\n",
      "Name: count, dtype: int64\n",
      "--------------------\n",
      "Topic counts:\n",
      "0    8166\n",
      "1    2201\n",
      "3     562\n",
      "2     497\n",
      "Name: count, dtype: int64\n",
      "--------------------\n",
      "Vietnamese duplicates: 0\n",
      "Vietnamese missing sentiments/topics: sentence     0\n",
      "sentiment    0\n",
      "topic        0\n",
      "dtype: int64\n"
     ]
    }
   ],
   "source": [
    "\n",
    "# some basic analysis\n",
    "print(\"Total # of samples:\", len(ds_viet[\"train\"]))\n",
    "print(\"-\" * 20)\n",
    "\n",
    "sentiment_counts_viet = pd.Series(ds_viet[\"train\"][\"sentiment\"]).value_counts()\n",
    "print(\"Sentiment counts:\")\n",
    "print(sentiment_counts_viet)\n",
    "print(\"-\" * 20)\n",
    "\n",
    "topic_counts_viet = pd.Series(ds_viet[\"train\"][\"topic\"]).value_counts()\n",
    "print(\"Topic counts:\")\n",
    "print(topic_counts_viet)\n",
    "print(\"-\" * 20)\n",
    "\n",
    "df_viet = pd.DataFrame(ds_viet[\"train\"])\n",
    "print(\"Vietnamese duplicates:\", df_viet.duplicated().sum())\n",
    "print(\"Vietnamese missing sentiments/topics:\", df_viet.isna().sum())"
   ]
  },
  {
   "cell_type": "code",
   "execution_count": 4,
   "id": "4e5b4adc",
   "metadata": {},
   "outputs": [
    {
     "name": "stdout",
     "output_type": "stream",
     "text": [
      "<class 'numpy.int64'>\n",
      "Unique sentiment values: [2 0 1]\n",
      "Unique topic values: [1 0 3 2]\n",
      "After mapping:\n",
      "sentiment\n",
      "positive    5643\n",
      "negative    5325\n",
      "neutral      458\n",
      "Name: count, dtype: int64\n",
      "topic\n",
      "lecturer            8166\n",
      "training_program    2201\n",
      "others               562\n",
      "facility             497\n",
      "Name: count, dtype: int64\n",
      "NaNs in sentiment: 0\n",
      "NaNs in topic: 0\n",
      "NaNs in sentence: 0\n"
     ]
    }
   ],
   "source": [
    "print(type(df_viet[\"sentiment\"].iloc[0]))\n",
    "print(\"Unique sentiment values:\", df_viet[\"sentiment\"].unique())\n",
    "print(\"Unique topic values:\", df_viet[\"topic\"].unique())\n",
    "\n",
    " \n",
    " # mapping the numeric labels of sentiment and topic to their string representations\n",
    "sentiment_mapping = {0: \"negative\", 1: \"neutral\", 2: \"positive\"}\n",
    "topic_mapping = {0: \"lecturer\", 1: \"training_program\", 2: \"facility\", 3: \"others\"}\n",
    "\n",
    "df_viet[\"sentiment\"] = df_viet[\"sentiment\"].map(sentiment_mapping)\n",
    "df_viet[\"topic\"] = df_viet[\"topic\"].map(topic_mapping)\n",
    "\n",
    "# check data after cleaning\n",
    "print(\"After mapping:\")\n",
    "print(df_viet[\"sentiment\"].value_counts())\n",
    "print(df_viet[\"topic\"].value_counts())\n",
    "\n",
    "#check for NaNs\n",
    "print(\"NaNs in sentiment:\", df_viet[\"sentiment\"].isna().sum())\n",
    "print(\"NaNs in topic:\", df_viet[\"topic\"].isna().sum())\n",
    "print(\"NaNs in sentence:\", df_viet[\"sentence\"].isna().sum())\n"
   ]
  },
  {
   "cell_type": "code",
   "execution_count": 5,
   "id": "c00b79a8",
   "metadata": {},
   "outputs": [
    {
     "name": "stdout",
     "output_type": "stream",
     "text": [
      "Categorical summaries:\n",
      "       sentiment     topic\n",
      "count      11426     11426\n",
      "unique         3         4\n",
      "top     positive  lecturer\n",
      "freq        5643      8166\n",
      "\n",
      "Text‐length descriptive statistics:\n",
      "count    11426.000000\n",
      "mean        59.084894\n",
      "std         43.085202\n",
      "min          4.000000\n",
      "25%         31.000000\n",
      "50%         47.000000\n",
      "75%         73.000000\n",
      "max        660.000000\n",
      "Name: length, dtype: float64\n"
     ]
    },
    {
     "data": {
      "image/png": "[encoded data removed]",
      "text/plain": [
       "<Figure size 800x400 with 1 Axes>"
      ]
     },
     "metadata": {},
     "output_type": "display_data"
    }
   ],
   "source": [
    "# standard descriptive statistics\n",
    "print(\"Categorical summaries:\")\n",
    "print(df_viet[[\"sentiment\", \"topic\"]].describe())\n",
    "\n",
    "# Numeric summary on text length\n",
    "df_viet[\"length\"] = df_viet[\"sentence\"].str.len()\n",
    "print(\"\\nText‐length descriptive statistics:\")\n",
    "print(df_viet[\"length\"].describe())\n",
    "\n",
    "# Visualize length by sentiment\n",
    "plt.figure(figsize=(8,4))\n",
    "sns.boxplot(x=\"sentiment\", y=\"length\", data=df_viet)\n",
    "plt.title(\"Input length by Sentiment\")\n",
    "plt.ylabel(\"Characters\"); plt.xlabel(\"Sentiment\")\n",
    "plt.show()\n"
   ]
  },
  {
   "cell_type": "code",
   "execution_count": 6,
   "id": "d96f62af",
   "metadata": {},
   "outputs": [
    {
     "name": "stdout",
     "output_type": "stream",
     "text": [
      "\n",
      "Vietnamese text length stats:\n",
      "count    11426.000000\n",
      "mean        59.084894\n",
      "std         43.085202\n",
      "min          4.000000\n",
      "25%         31.000000\n",
      "50%         47.000000\n",
      "75%         73.000000\n",
      "max        660.000000\n",
      "dtype: float64\n",
      "\n",
      "Potential outliers in Vietnamese dataset:\n",
      "Very short texts (<10 chars): 64\n",
      "Very long texts (>400 chars): 6\n"
     ]
    }
   ],
   "source": [
    "\n",
    "# Text length analysis for Vietnamese dataset\n",
    "viet_text_lengths = [len(text) for text in ds_viet[\"train\"][\"sentence\"]]\n",
    "print(\"\\nVietnamese text length stats:\")\n",
    "print(pd.Series(viet_text_lengths).describe())\n",
    "\n",
    "short_threshold_viet = 10\n",
    "long_threshold_viet = 400\n",
    "print(\"\\nPotential outliers in Vietnamese dataset:\")\n",
    "print(f\"Very short texts (<{short_threshold_viet} chars): {sum(1 for l in viet_text_lengths if l < short_threshold_viet)}\")\n",
    "print(f\"Very long texts (>{long_threshold_viet} chars): {sum(1 for l in viet_text_lengths if l > long_threshold_viet)}\")\n"
   ]
  },
  {
   "cell_type": "code",
   "execution_count": 7,
   "id": "1652ec43",
   "metadata": {},
   "outputs": [
    {
     "name": "stdout",
     "output_type": "stream",
     "text": [
      "\n",
      "Word count descriptive statistics:\n",
      "count    11426.000000\n",
      "mean        14.308769\n",
      "std         10.089727\n",
      "min          2.000000\n",
      "25%          8.000000\n",
      "50%         11.000000\n",
      "75%         17.000000\n",
      "max        159.000000\n",
      "Name: word_count, dtype: float64\n"
     ]
    }
   ],
   "source": [
    "# word count analysis\n",
    "df_viet[\"word_count\"] = df_viet[\"sentence\"].str.split().apply(len)\n",
    "print(\"\\nWord count descriptive statistics:\")\n",
    "print(df_viet[\"word_count\"].describe())\n"
   ]
  },
  {
   "cell_type": "code",
   "execution_count": 8,
   "id": "b912bc16",
   "metadata": {},
   "outputs": [
    {
     "data": {
      "text/html": [
       "<div>\n",
       "<style scoped>\n",
       "    .dataframe tbody tr th:only-of-type {\n",
       "        vertical-align: middle;\n",
       "    }\n",
       "\n",
       "    .dataframe tbody tr th {\n",
       "        vertical-align: top;\n",
       "    }\n",
       "\n",
       "    .dataframe thead th {\n",
       "        text-align: right;\n",
       "    }\n",
       "</style>\n",
       "<table border=\"1\" class=\"dataframe\">\n",
       "  <thead>\n",
       "    <tr style=\"text-align: right;\">\n",
       "      <th></th>\n",
       "      <th>sentence</th>\n",
       "      <th>sentiment</th>\n",
       "      <th>topic</th>\n",
       "      <th>length</th>\n",
       "      <th>word_count</th>\n",
       "    </tr>\n",
       "  </thead>\n",
       "  <tbody>\n",
       "    <tr>\n",
       "      <th>0</th>\n",
       "      <td>slide giáo trình đầy đủ .</td>\n",
       "      <td>positive</td>\n",
       "      <td>training_program</td>\n",
       "      <td>25</td>\n",
       "      <td>6</td>\n",
       "    </tr>\n",
       "    <tr>\n",
       "      <th>1</th>\n",
       "      <td>nhiệt tình giảng dạy , gần gũi với sinh viên .</td>\n",
       "      <td>positive</td>\n",
       "      <td>lecturer</td>\n",
       "      <td>46</td>\n",
       "      <td>11</td>\n",
       "    </tr>\n",
       "    <tr>\n",
       "      <th>2</th>\n",
       "      <td>đi học đầy đủ full điểm chuyên cần .</td>\n",
       "      <td>negative</td>\n",
       "      <td>training_program</td>\n",
       "      <td>36</td>\n",
       "      <td>9</td>\n",
       "    </tr>\n",
       "    <tr>\n",
       "      <th>3</th>\n",
       "      <td>chưa áp dụng công nghệ thông tin và các thiết ...</td>\n",
       "      <td>negative</td>\n",
       "      <td>lecturer</td>\n",
       "      <td>76</td>\n",
       "      <td>18</td>\n",
       "    </tr>\n",
       "    <tr>\n",
       "      <th>4</th>\n",
       "      <td>thầy giảng bài hay , có nhiều bài tập ví dụ ng...</td>\n",
       "      <td>positive</td>\n",
       "      <td>lecturer</td>\n",
       "      <td>59</td>\n",
       "      <td>15</td>\n",
       "    </tr>\n",
       "  </tbody>\n",
       "</table>\n",
       "</div>"
      ],
      "text/plain": [
       "                                            sentence sentiment  \\\n",
       "0                          slide giáo trình đầy đủ .  positive   \n",
       "1     nhiệt tình giảng dạy , gần gũi với sinh viên .  positive   \n",
       "2               đi học đầy đủ full điểm chuyên cần .  negative   \n",
       "3  chưa áp dụng công nghệ thông tin và các thiết ...  negative   \n",
       "4  thầy giảng bài hay , có nhiều bài tập ví dụ ng...  positive   \n",
       "\n",
       "              topic  length  word_count  \n",
       "0  training_program      25           6  \n",
       "1          lecturer      46          11  \n",
       "2  training_program      36           9  \n",
       "3          lecturer      76          18  \n",
       "4          lecturer      59          15  "
      ]
     },
     "execution_count": 8,
     "metadata": {},
     "output_type": "execute_result"
    }
   ],
   "source": [
    "df_viet.head()"
   ]
  },
  {
   "cell_type": "code",
   "execution_count": 9,
   "id": "3af436a6",
   "metadata": {},
   "outputs": [],
   "source": [
    "from pyvi import ViTokenizer\n",
    "import re\n",
    "\n",
    "# Define Vietnamese stopwords directly without depending on a library\n",
    "viet_stopwords = set([\n",
    "    \"và\", \"là\", \"của\", \"có\", \"được\", \"trong\", \"đã\", \"cho\", \"các\", \"như\",\n",
    "    \"những\", \"một\", \"với\", \"không\", \"này\", \"để\", \"về\", \"có thể\", \"từ\", \"đến\",\n",
    "    \"theo\", \"tại\", \"nhưng\", \"bị\", \"do\", \"khi\", \"nên\", \"sẽ\", \"vì\", \"tôi\",\n",
    "    \"bạn\", \"anh\", \"chị\", \"từng\", \"đó\", \"thì\", \"đều\", \"mà\", \"trên\", \"rất\", \"mình\"\n",
    "])\n",
    "\n",
    "# First tokenize with ViTokenizer to identify proper word boundaries\n",
    "df_viet[\"tokenized\"] = df_viet[\"sentence\"].apply(ViTokenizer.tokenize)\n",
    "\n",
    "# Then preprocess while keeping Vietnamese characters intact\n",
    "def preprocess_viet_text_improved(text):\n",
    "    # Convert to lowercase\n",
    "    text = text.lower()\n",
    "    \n",
    "    #remove punctuation\n",
    "    text = re.sub(r'[^\\w\\s]', '', text)  # Remove punctuation except underscores\n",
    "    \n",
    "    # Remove stopwords (words are joined with underscore by ViTokenizer)\n",
    "    words = text.split()\n",
    "    filtered = [w for w in words if w not in viet_stopwords]\n",
    "    return \" \".join(filtered)\n",
    "\n",
    "df_viet[\"sentence_cleaned\"] = df_viet[\"tokenized\"].apply(preprocess_viet_text_improved)\n"
   ]
  },
  {
   "cell_type": "code",
   "execution_count": 10,
   "id": "5e6f7568",
   "metadata": {},
   "outputs": [
    {
     "data": {
      "text/html": [
       "<div>\n",
       "<style scoped>\n",
       "    .dataframe tbody tr th:only-of-type {\n",
       "        vertical-align: middle;\n",
       "    }\n",
       "\n",
       "    .dataframe tbody tr th {\n",
       "        vertical-align: top;\n",
       "    }\n",
       "\n",
       "    .dataframe thead th {\n",
       "        text-align: right;\n",
       "    }\n",
       "</style>\n",
       "<table border=\"1\" class=\"dataframe\">\n",
       "  <thead>\n",
       "    <tr style=\"text-align: right;\">\n",
       "      <th></th>\n",
       "      <th>sentence</th>\n",
       "      <th>sentiment</th>\n",
       "      <th>topic</th>\n",
       "      <th>length</th>\n",
       "      <th>word_count</th>\n",
       "      <th>tokenized</th>\n",
       "      <th>sentence_cleaned</th>\n",
       "    </tr>\n",
       "  </thead>\n",
       "  <tbody>\n",
       "    <tr>\n",
       "      <th>0</th>\n",
       "      <td>slide giáo trình đầy đủ .</td>\n",
       "      <td>positive</td>\n",
       "      <td>training_program</td>\n",
       "      <td>25</td>\n",
       "      <td>6</td>\n",
       "      <td>slide giáo_trình đầy_đủ .</td>\n",
       "      <td>slide giáo_trình đầy_đủ</td>\n",
       "    </tr>\n",
       "    <tr>\n",
       "      <th>1</th>\n",
       "      <td>nhiệt tình giảng dạy , gần gũi với sinh viên .</td>\n",
       "      <td>positive</td>\n",
       "      <td>lecturer</td>\n",
       "      <td>46</td>\n",
       "      <td>11</td>\n",
       "      <td>nhiệt_tình giảng_dạy , gần_gũi với sinh_viên .</td>\n",
       "      <td>nhiệt_tình giảng_dạy gần_gũi sinh_viên</td>\n",
       "    </tr>\n",
       "    <tr>\n",
       "      <th>2</th>\n",
       "      <td>đi học đầy đủ full điểm chuyên cần .</td>\n",
       "      <td>negative</td>\n",
       "      <td>training_program</td>\n",
       "      <td>36</td>\n",
       "      <td>9</td>\n",
       "      <td>đi học đầy_đủ full điểm chuyên_cần .</td>\n",
       "      <td>đi học đầy_đủ full điểm chuyên_cần</td>\n",
       "    </tr>\n",
       "    <tr>\n",
       "      <th>3</th>\n",
       "      <td>chưa áp dụng công nghệ thông tin và các thiết ...</td>\n",
       "      <td>negative</td>\n",
       "      <td>lecturer</td>\n",
       "      <td>76</td>\n",
       "      <td>18</td>\n",
       "      <td>chưa áp_dụng công_nghệ thông_tin và các thiết_...</td>\n",
       "      <td>chưa áp_dụng công_nghệ thông_tin thiết_bị hỗ_t...</td>\n",
       "    </tr>\n",
       "    <tr>\n",
       "      <th>4</th>\n",
       "      <td>thầy giảng bài hay , có nhiều bài tập ví dụ ng...</td>\n",
       "      <td>positive</td>\n",
       "      <td>lecturer</td>\n",
       "      <td>59</td>\n",
       "      <td>15</td>\n",
       "      <td>thầy giảng bài hay , có nhiều bài_tập ví_dụ ng...</td>\n",
       "      <td>thầy giảng bài hay nhiều bài_tập ví_dụ ngay lớp</td>\n",
       "    </tr>\n",
       "  </tbody>\n",
       "</table>\n",
       "</div>"
      ],
      "text/plain": [
       "                                            sentence sentiment  \\\n",
       "0                          slide giáo trình đầy đủ .  positive   \n",
       "1     nhiệt tình giảng dạy , gần gũi với sinh viên .  positive   \n",
       "2               đi học đầy đủ full điểm chuyên cần .  negative   \n",
       "3  chưa áp dụng công nghệ thông tin và các thiết ...  negative   \n",
       "4  thầy giảng bài hay , có nhiều bài tập ví dụ ng...  positive   \n",
       "\n",
       "              topic  length  word_count  \\\n",
       "0  training_program      25           6   \n",
       "1          lecturer      46          11   \n",
       "2  training_program      36           9   \n",
       "3          lecturer      76          18   \n",
       "4          lecturer      59          15   \n",
       "\n",
       "                                           tokenized  \\\n",
       "0                          slide giáo_trình đầy_đủ .   \n",
       "1     nhiệt_tình giảng_dạy , gần_gũi với sinh_viên .   \n",
       "2               đi học đầy_đủ full điểm chuyên_cần .   \n",
       "3  chưa áp_dụng công_nghệ thông_tin và các thiết_...   \n",
       "4  thầy giảng bài hay , có nhiều bài_tập ví_dụ ng...   \n",
       "\n",
       "                                    sentence_cleaned  \n",
       "0                            slide giáo_trình đầy_đủ  \n",
       "1             nhiệt_tình giảng_dạy gần_gũi sinh_viên  \n",
       "2                 đi học đầy_đủ full điểm chuyên_cần  \n",
       "3  chưa áp_dụng công_nghệ thông_tin thiết_bị hỗ_t...  \n",
       "4    thầy giảng bài hay nhiều bài_tập ví_dụ ngay lớp  "
      ]
     },
     "execution_count": 10,
     "metadata": {},
     "output_type": "execute_result"
    }
   ],
   "source": [
    "df_viet.head()"
   ]
  },
  {
   "cell_type": "code",
   "execution_count": 11,
   "id": "41711766",
   "metadata": {},
   "outputs": [
    {
     "data": {
      "text/html": [
       "<div>\n",
       "<style scoped>\n",
       "    .dataframe tbody tr th:only-of-type {\n",
       "        vertical-align: middle;\n",
       "    }\n",
       "\n",
       "    .dataframe tbody tr th {\n",
       "        vertical-align: top;\n",
       "    }\n",
       "\n",
       "    .dataframe thead th {\n",
       "        text-align: right;\n",
       "    }\n",
       "</style>\n",
       "<table border=\"1\" class=\"dataframe\">\n",
       "  <thead>\n",
       "    <tr style=\"text-align: right;\">\n",
       "      <th></th>\n",
       "      <th>sentence</th>\n",
       "      <th>sentiment</th>\n",
       "      <th>topic</th>\n",
       "      <th>length</th>\n",
       "      <th>word_count</th>\n",
       "      <th>tokenized</th>\n",
       "      <th>sentence_cleaned</th>\n",
       "      <th>sentence_words_list</th>\n",
       "    </tr>\n",
       "  </thead>\n",
       "  <tbody>\n",
       "    <tr>\n",
       "      <th>0</th>\n",
       "      <td>slide giáo trình đầy đủ .</td>\n",
       "      <td>positive</td>\n",
       "      <td>training_program</td>\n",
       "      <td>25</td>\n",
       "      <td>6</td>\n",
       "      <td>slide giáo_trình đầy_đủ .</td>\n",
       "      <td>slide giáo_trình đầy_đủ</td>\n",
       "      <td>[slide, giáo_trình, đầy_đủ]</td>\n",
       "    </tr>\n",
       "    <tr>\n",
       "      <th>1</th>\n",
       "      <td>nhiệt tình giảng dạy , gần gũi với sinh viên .</td>\n",
       "      <td>positive</td>\n",
       "      <td>lecturer</td>\n",
       "      <td>46</td>\n",
       "      <td>11</td>\n",
       "      <td>nhiệt_tình giảng_dạy , gần_gũi với sinh_viên .</td>\n",
       "      <td>nhiệt_tình giảng_dạy gần_gũi sinh_viên</td>\n",
       "      <td>[nhiệt_tình, giảng_dạy, gần_gũi, sinh_viên]</td>\n",
       "    </tr>\n",
       "    <tr>\n",
       "      <th>2</th>\n",
       "      <td>đi học đầy đủ full điểm chuyên cần .</td>\n",
       "      <td>negative</td>\n",
       "      <td>training_program</td>\n",
       "      <td>36</td>\n",
       "      <td>9</td>\n",
       "      <td>đi học đầy_đủ full điểm chuyên_cần .</td>\n",
       "      <td>đi học đầy_đủ full điểm chuyên_cần</td>\n",
       "      <td>[đi, học, đầy_đủ, full, điểm, chuyên_cần]</td>\n",
       "    </tr>\n",
       "    <tr>\n",
       "      <th>3</th>\n",
       "      <td>chưa áp dụng công nghệ thông tin và các thiết ...</td>\n",
       "      <td>negative</td>\n",
       "      <td>lecturer</td>\n",
       "      <td>76</td>\n",
       "      <td>18</td>\n",
       "      <td>chưa áp_dụng công_nghệ thông_tin và các thiết_...</td>\n",
       "      <td>chưa áp_dụng công_nghệ thông_tin thiết_bị hỗ_t...</td>\n",
       "      <td>[chưa, áp_dụng, công_nghệ, thông_tin, thiết_bị...</td>\n",
       "    </tr>\n",
       "    <tr>\n",
       "      <th>4</th>\n",
       "      <td>thầy giảng bài hay , có nhiều bài tập ví dụ ng...</td>\n",
       "      <td>positive</td>\n",
       "      <td>lecturer</td>\n",
       "      <td>59</td>\n",
       "      <td>15</td>\n",
       "      <td>thầy giảng bài hay , có nhiều bài_tập ví_dụ ng...</td>\n",
       "      <td>thầy giảng bài hay nhiều bài_tập ví_dụ ngay lớp</td>\n",
       "      <td>[thầy, giảng, bài, hay, nhiều, bài_tập, ví_dụ,...</td>\n",
       "    </tr>\n",
       "  </tbody>\n",
       "</table>\n",
       "</div>"
      ],
      "text/plain": [
       "                                            sentence sentiment  \\\n",
       "0                          slide giáo trình đầy đủ .  positive   \n",
       "1     nhiệt tình giảng dạy , gần gũi với sinh viên .  positive   \n",
       "2               đi học đầy đủ full điểm chuyên cần .  negative   \n",
       "3  chưa áp dụng công nghệ thông tin và các thiết ...  negative   \n",
       "4  thầy giảng bài hay , có nhiều bài tập ví dụ ng...  positive   \n",
       "\n",
       "              topic  length  word_count  \\\n",
       "0  training_program      25           6   \n",
       "1          lecturer      46          11   \n",
       "2  training_program      36           9   \n",
       "3          lecturer      76          18   \n",
       "4          lecturer      59          15   \n",
       "\n",
       "                                           tokenized  \\\n",
       "0                          slide giáo_trình đầy_đủ .   \n",
       "1     nhiệt_tình giảng_dạy , gần_gũi với sinh_viên .   \n",
       "2               đi học đầy_đủ full điểm chuyên_cần .   \n",
       "3  chưa áp_dụng công_nghệ thông_tin và các thiết_...   \n",
       "4  thầy giảng bài hay , có nhiều bài_tập ví_dụ ng...   \n",
       "\n",
       "                                    sentence_cleaned  \\\n",
       "0                            slide giáo_trình đầy_đủ   \n",
       "1             nhiệt_tình giảng_dạy gần_gũi sinh_viên   \n",
       "2                 đi học đầy_đủ full điểm chuyên_cần   \n",
       "3  chưa áp_dụng công_nghệ thông_tin thiết_bị hỗ_t...   \n",
       "4    thầy giảng bài hay nhiều bài_tập ví_dụ ngay lớp   \n",
       "\n",
       "                                 sentence_words_list  \n",
       "0                        [slide, giáo_trình, đầy_đủ]  \n",
       "1        [nhiệt_tình, giảng_dạy, gần_gũi, sinh_viên]  \n",
       "2          [đi, học, đầy_đủ, full, điểm, chuyên_cần]  \n",
       "3  [chưa, áp_dụng, công_nghệ, thông_tin, thiết_bị...  \n",
       "4  [thầy, giảng, bài, hay, nhiều, bài_tập, ví_dụ,...  "
      ]
     },
     "execution_count": 11,
     "metadata": {},
     "output_type": "execute_result"
    }
   ],
   "source": [
    "# Create a list of words from the tokenized sentences\n",
    "def corpus_viet(text):\n",
    "    text_list = text.split()\n",
    "    return text_list\n",
    "df_viet[\"sentence_words_list\"] = df_viet[\"sentence_cleaned\"].apply(corpus_viet)\n",
    "df_viet.head()"
   ]
  },
  {
   "cell_type": "code",
   "execution_count": 12,
   "id": "fd2602e9",
   "metadata": {},
   "outputs": [
    {
     "name": "stderr",
     "output_type": "stream",
     "text": [
      "100%|\u001b[32m███████████████████████████████████████████████████████████████████████████████████████████████████████\u001b[0m| 11426/11426 [00:00<00:00, 494460.67it/s]\u001b[0m\n"
     ]
    },
    {
     "data": {
      "text/plain": [
       "86381"
      ]
     },
     "execution_count": 12,
     "metadata": {},
     "output_type": "execute_result"
    }
   ],
   "source": [
    "from tqdm import trange\n",
    "corpus_viet = []\n",
    "df_viet.reset_index(drop=True, inplace=True)\n",
    "\n",
    "for i in trange(df_viet.shape[0], ncols=150, nrows=10, colour='green', smoothing=0.8):\n",
    "    corpus_viet += df_viet['sentence_cleaned'][i].split()\n",
    "\n",
    "len(corpus_viet)\n"
   ]
  },
  {
   "cell_type": "code",
   "execution_count": 13,
   "id": "654b940b",
   "metadata": {},
   "outputs": [
    {
     "data": {
      "image/png": "[encoded data removed]",
      "text/plain": [
       "<Figure size 640x480 with 1 Axes>"
      ]
     },
     "metadata": {},
     "output_type": "display_data"
    }
   ],
   "source": [
    "most_common_viet = Counter(corpus_viet).most_common(10)\n",
    "most_common_viet\n",
    "\n",
    "viet_word = []\n",
    "freq_viet = []\n",
    "for word, count in most_common_viet:\n",
    "    viet_word.append(word)\n",
    "    freq_viet.append(count)\n",
    "    \n",
    "sns.barplot(x=freq_viet, y=viet_word)\n",
    "plt.title('Top 10 Most Frequently Occuring Words in Vietnamese Dataset')\n",
    "plt.show()"
   ]
  },
  {
   "cell_type": "code",
   "execution_count": 14,
   "id": "551c31cc",
   "metadata": {},
   "outputs": [
    {
     "data": {
      "image/png": "[encoded data removed]",
      "text/plain": [
       "<Figure size 640x480 with 1 Axes>"
      ]
     },
     "metadata": {},
     "output_type": "display_data"
    }
   ],
   "source": [
    "cv_viet = CountVectorizer(ngram_range=(2,2))\n",
    "bigrams_viet = cv_viet.fit_transform(df_viet['sentence_cleaned'])\n",
    "count_values_viet = bigrams_viet.toarray().sum(axis=0)\n",
    "ngram_freq_viet = pd.DataFrame(sorted([(count_values_viet[i], k) for k, i in cv_viet.vocabulary_.items()], reverse=True))\n",
    "ngram_freq_viet.columns = [\"frequency\", \"ngram\"]\n",
    "sns.barplot(x=ngram_freq_viet['frequency'][:10], y=ngram_freq_viet['ngram'][:10])\n",
    "plt.title('Top 10 Most Frequently Occuring Bigrams in Vietnamese Dataset')\n",
    "plt.show()\n",
    "\n"
   ]
  },
  {
   "cell_type": "code",
   "execution_count": 15,
   "id": "4427ba0e",
   "metadata": {},
   "outputs": [
    {
     "data": {
      "image/png": "[encoded data removed]",
      "text/plain": [
       "<Figure size 640x480 with 1 Axes>"
      ]
     },
     "metadata": {},
     "output_type": "display_data"
    }
   ],
   "source": [
    "cv1_viet = CountVectorizer(ngram_range=(3,3))\n",
    "trigrams_viet = cv1_viet.fit_transform(df_viet['sentence_cleaned'])\n",
    "count_values_viet1 = trigrams_viet.toarray().sum(axis=0)\n",
    "ngram_freq_viet1 = pd.DataFrame(sorted([(count_values_viet1[i], k) for k, i in cv1_viet.vocabulary_.items()], reverse=True))\n",
    "ngram_freq_viet1.columns = [\"frequency\", \"ngram\"]\n",
    "sns.barplot(x=ngram_freq_viet1['frequency'][:10], y=ngram_freq_viet1['ngram'][:10])\n",
    "plt.title('Top 10 Most Frequently Occuring Trigrams in Vietnamese Dataset')\n",
    "plt.show()"
   ]
  },
  {
   "cell_type": "code",
   "execution_count": 16,
   "id": "6b4ca5e2",
   "metadata": {},
   "outputs": [],
   "source": [
    "short_threshold_viet = 10\n",
    "long_threshold_viet = 200\n",
    "\n",
    "negative_normal_sample_viet = df_viet[(df_viet[\"sentiment\"] == \"negative\") \n",
    "                                      & (df_viet[\"length\"].between(short_threshold_viet, long_threshold_viet))].sample(n=1280, random_state=13)\n",
    "neutral_normal_sample_viet = df_viet[(df_viet[\"sentiment\"] == \"neutral\")].sample(n=390, random_state=13)\n",
    "positive_normal_sample_viet = df_viet[(df_viet[\"sentiment\"] == \"positive\") \n",
    "                                      & (df_viet[\"length\"].between(short_threshold_viet, long_threshold_viet))].sample(n=1280, random_state=13)\n",
    "\n",
    "negative_long_outlier_viet = df_viet[(df_viet[\"sentiment\"] == \"negative\") \n",
    "                                     & (df_viet[\"length\"] > long_threshold_viet)].sample(n=10, random_state=13)\n",
    "positive_long_outlier_viet = df_viet[(df_viet[\"sentiment\"] == \"positive\") \n",
    "                                     & (df_viet[\"length\"] > long_threshold_viet)].sample(n=10, random_state=13)\n",
    "\n",
    "negative_short_outlier_viet = df_viet[(df_viet[\"sentiment\"] == \"negative\") \n",
    "                                      & (df_viet[\"length\"] < short_threshold_viet)].sample(n=10, random_state=13)\n",
    "neutral_short_outlier_viet = df_viet[(df_viet[\"sentiment\"] == \"neutral\") \n",
    "                                     & (df_viet[\"length\"] < short_threshold_viet)].sample(n=10, random_state=13)\n",
    "positive_short_outlier_viet = df_viet[(df_viet[\"sentiment\"] == \"positive\") \n",
    "                                      & (df_viet[\"length\"] < short_threshold_viet)].sample(n=10, random_state=13)\n",
    "\n",
    "# combine all samples\n",
    "train_samples_viet = pd.concat([\n",
    "    negative_normal_sample_viet,\n",
    "    neutral_normal_sample_viet,\n",
    "    positive_normal_sample_viet,\n",
    "    negative_long_outlier_viet,\n",
    "    positive_long_outlier_viet,\n",
    "    negative_short_outlier_viet,\n",
    "    neutral_short_outlier_viet,\n",
    "    positive_short_outlier_viet\n",
    "])\n",
    "\n",
    "#shuffle the training samples\n",
    "train_samples_viet = train_samples_viet.sample(frac=1, random_state=13).reset_index(drop=True)\n",
    "\n",
    "# save the training samples to a CSV file\n",
    "train_samples_viet.to_csv(\"data/vietnamese_train_samples.csv\", index=False, encoding=\"utf-8-sig\")\n"
   ]
  },
  {
   "cell_type": "code",
   "execution_count": 22,
   "id": "fea8c4d4",
   "metadata": {},
   "outputs": [],
   "source": [
    "# choose another 250 for validation\n",
    "\n",
    "training_indices_viet = train_samples_viet.index.tolist()\n",
    "\n",
    "remaining_samples_viet = df_viet[~df_viet.index.isin(training_indices_viet)]\n",
    "\n",
    "negative_normal_val_viet = remaining_samples_viet[(remaining_samples_viet[\"sentiment\"] == \"negative\") \n",
    "                                                  & (remaining_samples_viet[\"length\"].between(short_threshold_viet, long_threshold_viet))].sample(n=77, random_state=13)\n",
    "neutral_normal_val_viet = remaining_samples_viet[(remaining_samples_viet[\"sentiment\"] == \"neutral\") \n",
    "                                                 & (remaining_samples_viet[\"length\"].between(short_threshold_viet, long_threshold_viet))].sample(n=78, random_state=13)\n",
    "positive_normal_val_viet = remaining_samples_viet[(remaining_samples_viet[\"sentiment\"] == \"positive\") \n",
    "                                                  & (remaining_samples_viet[\"length\"].between(short_threshold_viet, long_threshold_viet))].sample(n=77, random_state=13)\n",
    "\n",
    "negative_short_val_viet = remaining_samples_viet[(remaining_samples_viet[\"sentiment\"] == \"negative\") \n",
    "                                                 & (remaining_samples_viet[\"length\"] < short_threshold_viet)].sample(n=3, random_state=13)\n",
    "neutral_short_val_viet = remaining_samples_viet[(remaining_samples_viet[\"sentiment\"] == \"neutral\") \n",
    "                                                & (remaining_samples_viet[\"length\"] < short_threshold_viet)].sample(n=3, random_state=13)\n",
    "positive_short_val_viet = remaining_samples_viet[(remaining_samples_viet[\"sentiment\"] == \"positive\") \n",
    "                                                 & (remaining_samples_viet[\"length\"] < short_threshold_viet)].sample(n=3, random_state=13)\n",
    "\n",
    "negative_long_val_viet = remaining_samples_viet[(remaining_samples_viet[\"sentiment\"] == \"negative\") \n",
    "                                                & (remaining_samples_viet[\"length\"] > long_threshold_viet)].sample(n=3, random_state=13)\n",
    "neutral_long_val_viet = remaining_samples_viet[(remaining_samples_viet[\"sentiment\"] == \"neutral\") \n",
    "                                               & (remaining_samples_viet[\"length\"] > long_threshold_viet)].sample(n=3, random_state=13)\n",
    "positive_long_val_viet = remaining_samples_viet[(remaining_samples_viet[\"sentiment\"] == \"positive\") \n",
    "                                                & (remaining_samples_viet[\"length\"] > long_threshold_viet)].sample(n=3, random_state=13)"
   ]
  },
  {
   "cell_type": "code",
   "execution_count": 23,
   "id": "1435abe2",
   "metadata": {},
   "outputs": [
    {
     "name": "stdout",
     "output_type": "stream",
     "text": [
      "Total validation samples:  250\n"
     ]
    }
   ],
   "source": [
    "validation_samples_viet = pd.concat([\n",
    "    negative_normal_val_viet,\n",
    "    neutral_normal_val_viet,\n",
    "    positive_normal_val_viet,\n",
    "    negative_short_val_viet,\n",
    "    neutral_short_val_viet,\n",
    "    positive_short_val_viet,\n",
    "    negative_long_val_viet,\n",
    "    neutral_long_val_viet,\n",
    "    positive_long_val_viet\n",
    "])\n",
    "\n",
    "# shuffle the validation samples\n",
    "validation_samples_viet = validation_samples_viet.sample(frac=1, random_state=13).reset_index(drop=True)\n",
    "\n",
    "# verify distribution\n",
    "print(\"Total validation samples: \", len(validation_samples_viet))\n",
    "\n",
    "validation_samples_viet.to_csv(\"data/vietnamese_validation_samples.csv\", index=False, encoding='utf-8-sig')\n"
   ]
  }
 ],
 "metadata": {
  "kernelspec": {
   "display_name": "env",
   "language": "python",
   "name": "python3"
  },
  "language_info": {
   "codemirror_mode": {
    "name": "ipython",
    "version": 3
   },
   "file_extension": ".py",
   "mimetype": "text/x-python",
   "name": "python",
   "nbconvert_exporter": "python",
   "pygments_lexer": "ipython3",
   "version": "3.12.4"
  }
 },
 "nbformat": 4,
 "nbformat_minor": 5
}
