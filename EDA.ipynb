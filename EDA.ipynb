{
 "cells": [
  {
   "cell_type": "markdown",
   "id": "4e16e7e5",
   "metadata": {},
   "source": [
    "# Part 1.1 Exploratory Data Analysis (English/Vietnamese)"
   ]
  },
  {
   "cell_type": "markdown",
   "id": "16e65b0f",
   "metadata": {},
   "source": [
    "## EDA on English dataset"
   ]
  },
  {
   "cell_type": "code",
   "execution_count": 1,
   "id": "00b50e9f",
   "metadata": {},
   "outputs": [
    {
     "name": "stdout",
     "output_type": "stream",
     "text": [
      "DatasetDict({\n",
      "    train: Dataset({\n",
      "        features: ['input', 'output', 'instruction'],\n",
      "        num_rows: 76772\n",
      "    })\n",
      "})\n",
      "{'input': Value(dtype='string', id=None), 'output': Value(dtype='string', id=None), 'instruction': Value(dtype='string', id=None)}\n",
      "{'input': 'Teollisuuden Voima Oyj , the Finnish utility known as TVO , said it shortlisted Mitsubishi Heavy s EU-APWR model along with reactors from Areva , Toshiba Corp. , GE Hitachi Nuclear Energy and Korea Hydro & Nuclear Power Co. .', 'output': 'neutral', 'instruction': 'What is the sentiment of this news? Please choose an answer from {negative/neutral/positive}.'}\n"
     ]
    }
   ],
   "source": [
    "from datasets import load_dataset\n",
    "import pandas as pd\n",
    "\n",
    "ds_fingpt = load_dataset(\"FinGPT/fingpt-sentiment-train\")\n",
    "\n",
    "print(ds_fingpt)\n",
    "print(ds_fingpt[\"train\"].features)\n",
    "print(ds_fingpt[\"train\"][0])"
   ]
  },
  {
   "cell_type": "code",
   "execution_count": 2,
   "id": "007ad008",
   "metadata": {},
   "outputs": [
    {
     "name": "stdout",
     "output_type": "stream",
     "text": [
      "Total # of samples: 76772\n",
      "--------------------\n",
      "Output counts:\n",
      "neutral                29215\n",
      "positive               21588\n",
      "negative               11749\n",
      "moderately positive     6163\n",
      "moderately negative     2972\n",
      "mildly positive         2548\n",
      "mildly negative         2108\n",
      "strong negative          218\n",
      "strong positive          211\n",
      "Name: count, dtype: int64\n",
      "--------------------\n",
      "Instruction counts:\n",
      "What is the sentiment of this tweet? Please choose an answer from {negative/neutral/positive}.                                                                                         30699\n",
      "What is the sentiment of this news? Please choose an answer from {negative/neutral/positive}.                                                                                          29889\n",
      "What is the sentiment of this news? Please choose an answer from {strong negative/moderately negative/mildly negative/neutral/mildly positive/moderately positive/strong positive}.    16184\n",
      "Name: count, dtype: int64\n",
      "--------------------\n",
      "English duplicates: 46537\n",
      "English missing outputs: 0\n",
      "--------------------\n"
     ]
    }
   ],
   "source": [
    "# Some basic analysis\n",
    "## total number of samples\n",
    "print(\"Total # of samples:\", len(ds_fingpt[\"train\"]))\n",
    "print(\"-\" * 20)\n",
    "\n",
    "## unique input counts\n",
    "output_counts_fingpt = pd.Series(ds_fingpt[\"train\"][\"output\"]).value_counts()\n",
    "print(\"Output counts:\")\n",
    "print(output_counts_fingpt)\n",
    "print(\"-\" * 20)\n",
    "\n",
    "## unique instruction counts\n",
    "instr_counts_fingpt = pd.Series(ds_fingpt[\"train\"][\"instruction\"]).value_counts()\n",
    "print(\"Instruction counts:\")\n",
    "print(instr_counts_fingpt)\n",
    "print(\"-\" * 20)\n",
    "\n",
    "## duplicates and missing outputs\n",
    "df_fingpt = pd.DataFrame(ds_fingpt[\"train\"])\n",
    "print(\"English duplicates:\", df_fingpt.duplicated(subset=\"input\").sum())\n",
    "print(\"English missing outputs:\", df_fingpt[\"output\"].isna().sum())\n",
    "print(\"-\" * 20)\n"
   ]
  },
  {
   "cell_type": "code",
   "execution_count": 3,
   "id": "1e4aa447",
   "metadata": {},
   "outputs": [
    {
     "name": "stdout",
     "output_type": "stream",
     "text": [
      "After cleaning:\n",
      "Total # of samples: 30235\n",
      "English duplicates: 0 30232 30226\n",
      "English missing outputs: 0 0 0\n",
      "Output counts:\n",
      "output\n",
      "neutral                10362\n",
      "moderately positive     6163\n",
      "positive                3484\n",
      "moderately negative     2972\n",
      "mildly positive         2548\n",
      "negative                2169\n",
      "mildly negative         2108\n",
      "strong negative          218\n",
      "strong positive          211\n",
      "Name: count, dtype: int64\n",
      "--------------------\n",
      "Instruction counts:\n",
      "instruction\n",
      "What is the sentiment of this news? Please choose an answer from {strong negative/moderately negative/mildly negative/neutral/mildly positive/moderately positive/strong positive}.    16184\n",
      "What is the sentiment of this tweet? Please choose an answer from {negative/neutral/positive}.                                                                                         10068\n",
      "What is the sentiment of this news? Please choose an answer from {negative/neutral/positive}.                                                                                           3983\n",
      "Name: count, dtype: int64\n",
      "--------------------\n"
     ]
    }
   ],
   "source": [
    "# remove duplicates\n",
    "df_fingpt = df_fingpt.drop_duplicates(subset=\"input\")\n",
    "# remove missing outputs\n",
    "df_fingpt = df_fingpt.dropna(subset=[\"output\"])\n",
    "\n",
    "#check data after cleaning\n",
    "print(\"After cleaning:\")\n",
    "print(\"Total # of samples:\", len(df_fingpt))\n",
    "print(\"English duplicates:\", df_fingpt.duplicated(subset=\"input\").sum(), df_fingpt.duplicated(subset=\"instruction\").sum(), df_fingpt.duplicated(subset=\"output\").sum())\n",
    "print(\"English missing outputs:\", df_fingpt[\"output\"].isna().sum(), df_fingpt[\"instruction\"].isna().sum(), df_fingpt[\"input\"].isna().sum())\n",
    "\n",
    "## unique input counts updated\n",
    "output_counts_fingpt = pd.Series(df_fingpt[\"output\"]).value_counts()\n",
    "print(\"Output counts:\")\n",
    "print(output_counts_fingpt)\n",
    "print(\"-\" * 20)\n",
    "\n",
    "## unique instruction counts updateds\n",
    "instr_counts_fingpt = pd.Series(df_fingpt[\"instruction\"]).value_counts()\n",
    "print(\"Instruction counts:\")\n",
    "print(instr_counts_fingpt)\n",
    "print(\"-\" * 20)\n"
   ]
  },
  {
   "cell_type": "code",
   "execution_count": 4,
   "id": "202ff408",
   "metadata": {},
   "outputs": [
    {
     "name": "stdout",
     "output_type": "stream",
     "text": [
      "Values not in mapping dictionary: []\n",
      "Output counts:\n",
      "output\n",
      "positive    12406\n",
      "neutral     10362\n",
      "negative     7467\n",
      "Name: count, dtype: int64\n",
      "--------------------\n",
      "NaN count after mapping: 0\n"
     ]
    }
   ],
   "source": [
    "\n",
    "# map the 7 outputs to 3 classes\n",
    "sentiment_mapping_fingpt = {\n",
    "    'strong negative': 'negative',\n",
    "    'moderately negative': 'negative',\n",
    "    'mildly negative': 'negative',\n",
    "    'neutral': 'neutral',\n",
    "    'mildly positive': 'positive',\n",
    "    'moderately positive': 'positive', \n",
    "    'strong positive': 'positive',\n",
    "    'positive': 'positive',\n",
    "    'negative': 'negative'\n",
    "}\n",
    "\n",
    "missing_values = df_fingpt[~df_fingpt['output'].isin(sentiment_mapping_fingpt.keys())]\n",
    "print(\"Values not in mapping dictionary:\", missing_values['output'].unique())\n",
    "\n",
    "\n",
    "df_fingpt['output'] = df_fingpt['output'].map(sentiment_mapping_fingpt)\n",
    "\n",
    "## unique input counts updated\n",
    "output_counts_fingpt = pd.Series(df_fingpt[\"output\"]).value_counts()\n",
    "print(\"Output counts:\")\n",
    "print(output_counts_fingpt)\n",
    "print(\"-\" * 20)\n",
    "\n",
    "\n",
    "print(\"NaN count after mapping:\", df_fingpt['output'].isna().sum())"
   ]
  },
  {
   "cell_type": "code",
   "execution_count": 5,
   "id": "59a9c1d5",
   "metadata": {},
   "outputs": [
    {
     "name": "stdout",
     "output_type": "stream",
     "text": [
      "Categorical summaries:\n",
      "          output                                        instruction\n",
      "count      30235                                              30235\n",
      "unique         3                                                  3\n",
      "top     positive  What is the sentiment of this news? Please cho...\n",
      "freq       12406                                              16184\n",
      "\n",
      "Text‐length descriptive statistics:\n",
      "count    30235.000000\n",
      "mean       135.434397\n",
      "std         84.076006\n",
      "min          2.000000\n",
      "25%         75.000000\n",
      "50%        119.000000\n",
      "75%        170.000000\n",
      "max       2107.000000\n",
      "Name: length, dtype: float64\n"
     ]
    },
    {
     "data": {
      "image/png": "[encoded data removed]",
      "text/plain": [
       "<Figure size 800x400 with 1 Axes>"
      ]
     },
     "metadata": {},
     "output_type": "display_data"
    }
   ],
   "source": [
    "## standard descriptive statistics\n",
    "import matplotlib.pyplot as plt\n",
    "import seaborn as sns\n",
    "print(\"Categorical summaries:\")\n",
    "print(df_fingpt[[\"output\",\"instruction\"]].describe())\n",
    "\n",
    "## Numeric summary on text length\n",
    "df_fingpt[\"length\"] = df_fingpt[\"input\"].str.len()\n",
    "print(\"\\nText‐length descriptive statistics:\")\n",
    "print(df_fingpt[\"length\"].describe())\n",
    "\n",
    "## Visualize length by sentiment\n",
    "plt.figure(figsize=(8,4))\n",
    "sns.boxplot(x=\"output\", y=\"length\", data=df_fingpt)\n",
    "plt.title(\"Input length by Sentiment\")\n",
    "plt.ylabel(\"Characters\"); plt.xlabel(\"Sentiment\")\n",
    "plt.show()"
   ]
  },
  {
   "cell_type": "code",
   "execution_count": 6,
   "id": "44feda42",
   "metadata": {},
   "outputs": [
    {
     "name": "stdout",
     "output_type": "stream",
     "text": [
      "Instruction: What is the sentiment of this news? Please choose an answer from {negative/neutral/positive}.\n",
      "                                                                                                                                                                                                      input  \\\n",
      "0   Teollisuuden Voima Oyj , the Finnish utility known as TVO , said it shortlisted Mitsubishi Heavy s EU-APWR model along with reactors from Areva , Toshiba Corp. , GE Hitachi Nuclear Energy and Kore...   \n",
      "1                                                                                                                                                 Sanofi poaches AstraZeneca scientist as new research head   \n",
      "5                                                                                                                      The Finnish company Stockmann has signed the contract with the company Technopolis .   \n",
      "9                                                                                                                                                                      Financial terms were not disclosed .   \n",
      "12                                                                                                                                                                   The value of the order is USD 2.3 mn .   \n",
      "\n",
      "     output  \\\n",
      "0   neutral   \n",
      "1   neutral   \n",
      "5   neutral   \n",
      "9   neutral   \n",
      "12  neutral   \n",
      "\n",
      "                                                                                      instruction  \\\n",
      "0   What is the sentiment of this news? Please choose an answer from {negative/neutral/positive}.   \n",
      "1   What is the sentiment of this news? Please choose an answer from {negative/neutral/positive}.   \n",
      "5   What is the sentiment of this news? Please choose an answer from {negative/neutral/positive}.   \n",
      "9   What is the sentiment of this news? Please choose an answer from {negative/neutral/positive}.   \n",
      "12  What is the sentiment of this news? Please choose an answer from {negative/neutral/positive}.   \n",
      "\n",
      "    length  \n",
      "0      225  \n",
      "1       57  \n",
      "5       84  \n",
      "9       36  \n",
      "12      38  \n",
      "--------------------\n",
      "Instruction: What is the sentiment of this news? Please choose an answer from {strong negative/moderately negative/mildly negative/neutral/mildly positive/moderately positive/strong positive}.\n",
      "                                                                                                                                                                                                      input  \\\n",
      "2                                                              Starbucks says the workers violated safety policies while workers said they'd never heard of the policy before and are alleging retaliation.   \n",
      "4   Google parent Alphabet Inc. reported revenue and earnings that fell short of analysts' expectations, showing the company's search advertising juggernaut was not immune to a slowdown in the digital...   \n",
      "8                                                                  Here we highlight some top-ranked technology ETFs that investors can consider betting on as a rebound rally is witnessed in tech stocks.   \n",
      "14  AAPL's shareholders embrace the tech giant's revenue volatility inherent in new product introductions, contrary to Netflix's growth-hungry shareholder base. AAPL's massive investment fund position...   \n",
      "22                                                                        Over the course of 24 years, these letters show Jeff Bezos' genius at work: \"[The great memos] really might take a week or more.\"   \n",
      "\n",
      "      output  \\\n",
      "2   negative   \n",
      "4   negative   \n",
      "8   positive   \n",
      "14  positive   \n",
      "22   neutral   \n",
      "\n",
      "                                                                                                                                                                            instruction  \\\n",
      "2   What is the sentiment of this news? Please choose an answer from {strong negative/moderately negative/mildly negative/neutral/mildly positive/moderately positive/strong positive}.   \n",
      "4   What is the sentiment of this news? Please choose an answer from {strong negative/moderately negative/mildly negative/neutral/mildly positive/moderately positive/strong positive}.   \n",
      "8   What is the sentiment of this news? Please choose an answer from {strong negative/moderately negative/mildly negative/neutral/mildly positive/moderately positive/strong positive}.   \n",
      "14  What is the sentiment of this news? Please choose an answer from {strong negative/moderately negative/mildly negative/neutral/mildly positive/moderately positive/strong positive}.   \n",
      "22  What is the sentiment of this news? Please choose an answer from {strong negative/moderately negative/mildly negative/neutral/mildly positive/moderately positive/strong positive}.   \n",
      "\n",
      "    length  \n",
      "2      140  \n",
      "4      237  \n",
      "8      136  \n",
      "14     282  \n",
      "22     129  \n",
      "--------------------\n",
      "Instruction: What is the sentiment of this tweet? Please choose an answer from {negative/neutral/positive}.\n",
      "                                                                                                                                         input  \\\n",
      "3                                                                                                                $brcm raises revenue forecast   \n",
      "6         Bernie Madoff, the former Wall Street investment advisor infamous for his Ponzi scheme, is back in the news  https://t.co/RJpoD8asy5   \n",
      "7                                                                                                  Wall Street's 7 Highest-Rated Stocks to Buy   \n",
      "10                                                                  $UVXY Put the chum out there at key support then next level down - careful   \n",
      "11  $SPY Less than 0.2% down and people are calling it bearish. Some heading for exits already. Maybe 1% down will be \"the crash\"? Disturbing!   \n",
      "\n",
      "      output  \\\n",
      "3   positive   \n",
      "6    neutral   \n",
      "7    neutral   \n",
      "10  negative   \n",
      "11  negative   \n",
      "\n",
      "                                                                                       instruction  \\\n",
      "3   What is the sentiment of this tweet? Please choose an answer from {negative/neutral/positive}.   \n",
      "6   What is the sentiment of this tweet? Please choose an answer from {negative/neutral/positive}.   \n",
      "7   What is the sentiment of this tweet? Please choose an answer from {negative/neutral/positive}.   \n",
      "10  What is the sentiment of this tweet? Please choose an answer from {negative/neutral/positive}.   \n",
      "11  What is the sentiment of this tweet? Please choose an answer from {negative/neutral/positive}.   \n",
      "\n",
      "    length  \n",
      "3       29  \n",
      "6      132  \n",
      "7       43  \n",
      "10      74  \n",
      "11     138  \n",
      "--------------------\n"
     ]
    }
   ],
   "source": [
    "# taking a look at the first few rows of each type of questions in the instruction column\n",
    "pd.set_option('display.max_colwidth', 200)\n",
    "\n",
    "for instr in df_fingpt[\"instruction\"].unique():\n",
    "    print(f\"Instruction: {instr}\")\n",
    "    print(df_fingpt[df_fingpt[\"instruction\"] == instr].head(5))\n",
    "    print(\"-\" * 20)"
   ]
  },
  {
   "cell_type": "code",
   "execution_count": 7,
   "id": "3208fe7f",
   "metadata": {},
   "outputs": [
    {
     "name": "stdout",
     "output_type": "stream",
     "text": [
      "English text length stats:\n",
      "count    30235.000000\n",
      "mean       135.434397\n",
      "std         84.076006\n",
      "min          2.000000\n",
      "25%         75.000000\n",
      "50%        119.000000\n",
      "75%        170.000000\n",
      "max       2107.000000\n",
      "dtype: float64\n",
      "\n",
      "Potential outliers in English dataset:\n",
      "Very short texts (<10 chars): 26\n",
      "Very long texts (>1000 chars): 2\n"
     ]
    }
   ],
   "source": [
    "# Text length analysis for English dataset\n",
    "fingpt_text_lengths = [len(text) for text in df_fingpt[\"input\"]]\n",
    "print(\"English text length stats:\")\n",
    "print(pd.Series(fingpt_text_lengths).describe())\n",
    "\n",
    "# Flag extremely short or long texts\n",
    "short_threshold = 10 \n",
    "long_threshold = 1000\n",
    "print(\"\\nPotential outliers in English dataset:\")\n",
    "print(f\"Very short texts (<{short_threshold} chars): {sum(1 for l in fingpt_text_lengths if l < short_threshold)}\")\n",
    "print(f\"Very long texts (>{long_threshold} chars): {sum(1 for l in fingpt_text_lengths if l > long_threshold)}\")"
   ]
  },
  {
   "cell_type": "code",
   "execution_count": 8,
   "id": "4d69435f",
   "metadata": {},
   "outputs": [
    {
     "name": "stdout",
     "output_type": "stream",
     "text": [
      "\n",
      "Word count descriptive statistics:\n",
      "count    30235.000000\n",
      "mean        21.483281\n",
      "std         13.564992\n",
      "min          1.000000\n",
      "25%         12.000000\n",
      "50%         18.000000\n",
      "75%         28.000000\n",
      "max        303.000000\n",
      "Name: word_count, dtype: float64\n"
     ]
    }
   ],
   "source": [
    "# Word count analysis\n",
    "df_fingpt[\"word_count\"] = df_fingpt[\"input\"].str.split().apply(len)\n",
    "print(\"\\nWord count descriptive statistics:\")\n",
    "print(df_fingpt[\"word_count\"].describe())"
   ]
  },
  {
   "cell_type": "code",
   "execution_count": 9,
   "id": "e2a0a293",
   "metadata": {},
   "outputs": [
    {
     "name": "stdout",
     "output_type": "stream",
     "text": [
      "NaNs:  input          0\n",
      "output         0\n",
      "instruction    0\n",
      "length         0\n",
      "word_count     0\n",
      "dtype: int64\n"
     ]
    }
   ],
   "source": [
    "df_fingpt.head()\n",
    "\n",
    "print(\"NaNs: \", df_fingpt.isna().sum())"
   ]
  },
  {
   "cell_type": "code",
   "execution_count": 10,
   "id": "abca44dc",
   "metadata": {},
   "outputs": [
    {
     "name": "stderr",
     "output_type": "stream",
     "text": [
      "[nltk_data] Downloading package stopwords to\n",
      "[nltk_data]     /Users/grasshead/nltk_data...\n",
      "[nltk_data]   Package stopwords is already up-to-date!\n"
     ]
    },
    {
     "data": {
      "text/plain": [
       "True"
      ]
     },
     "execution_count": 10,
     "metadata": {},
     "output_type": "execute_result"
    }
   ],
   "source": [
    "import re\n",
    "import nltk\n",
    "\n",
    "nltk.download('stopwords')"
   ]
  },
  {
   "cell_type": "code",
   "execution_count": 11,
   "id": "e2a04aab",
   "metadata": {},
   "outputs": [
    {
     "data": {
      "text/html": [
       "<div>\n",
       "<style scoped>\n",
       "    .dataframe tbody tr th:only-of-type {\n",
       "        vertical-align: middle;\n",
       "    }\n",
       "\n",
       "    .dataframe tbody tr th {\n",
       "        vertical-align: top;\n",
       "    }\n",
       "\n",
       "    .dataframe thead th {\n",
       "        text-align: right;\n",
       "    }\n",
       "</style>\n",
       "<table border=\"1\" class=\"dataframe\">\n",
       "  <thead>\n",
       "    <tr style=\"text-align: right;\">\n",
       "      <th></th>\n",
       "      <th>input</th>\n",
       "      <th>output</th>\n",
       "      <th>instruction</th>\n",
       "      <th>length</th>\n",
       "      <th>word_count</th>\n",
       "      <th>input_cleaned</th>\n",
       "    </tr>\n",
       "  </thead>\n",
       "  <tbody>\n",
       "    <tr>\n",
       "      <th>0</th>\n",
       "      <td>Teollisuuden Voima Oyj , the Finnish utility known as TVO , said it shortlisted Mitsubishi Heavy s EU-APWR model along with reactors from Areva , Toshiba Corp. , GE Hitachi Nuclear Energy and Kore...</td>\n",
       "      <td>neutral</td>\n",
       "      <td>What is the sentiment of this news? Please choose an answer from {negative/neutral/positive}.</td>\n",
       "      <td>225</td>\n",
       "      <td>40</td>\n",
       "      <td>teollisuuden voima oyj finnish utility known tvo said shortlisted mitsubishi heavy eu-apwr model along reactors areva toshiba corp ge hitachi nuclear energy korea hydro nuclear power co</td>\n",
       "    </tr>\n",
       "    <tr>\n",
       "      <th>1</th>\n",
       "      <td>Sanofi poaches AstraZeneca scientist as new research head</td>\n",
       "      <td>neutral</td>\n",
       "      <td>What is the sentiment of this news? Please choose an answer from {negative/neutral/positive}.</td>\n",
       "      <td>57</td>\n",
       "      <td>8</td>\n",
       "      <td>sanofi poaches astrazeneca scientist new research head</td>\n",
       "    </tr>\n",
       "    <tr>\n",
       "      <th>2</th>\n",
       "      <td>Starbucks says the workers violated safety policies while workers said they'd never heard of the policy before and are alleging retaliation.</td>\n",
       "      <td>negative</td>\n",
       "      <td>What is the sentiment of this news? Please choose an answer from {strong negative/moderately negative/mildly negative/neutral/mildly positive/moderately positive/strong positive}.</td>\n",
       "      <td>140</td>\n",
       "      <td>21</td>\n",
       "      <td>starbucks says workers violated safety policies workers said theyd never heard policy alleging retaliation</td>\n",
       "    </tr>\n",
       "    <tr>\n",
       "      <th>3</th>\n",
       "      <td>$brcm raises revenue forecast</td>\n",
       "      <td>positive</td>\n",
       "      <td>What is the sentiment of this tweet? Please choose an answer from {negative/neutral/positive}.</td>\n",
       "      <td>29</td>\n",
       "      <td>4</td>\n",
       "      <td>brcm raises revenue forecast</td>\n",
       "    </tr>\n",
       "    <tr>\n",
       "      <th>4</th>\n",
       "      <td>Google parent Alphabet Inc. reported revenue and earnings that fell short of analysts' expectations, showing the company's search advertising juggernaut was not immune to a slowdown in the digital...</td>\n",
       "      <td>negative</td>\n",
       "      <td>What is the sentiment of this news? Please choose an answer from {strong negative/moderately negative/mildly negative/neutral/mildly positive/moderately positive/strong positive}.</td>\n",
       "      <td>237</td>\n",
       "      <td>37</td>\n",
       "      <td>google parentalphabet increported revenue earnings fell short analysts expectations showing companys search advertising juggernaut immune slowdown digital ad market shares fell 6</td>\n",
       "    </tr>\n",
       "  </tbody>\n",
       "</table>\n",
       "</div>"
      ],
      "text/plain": [
       "                                                                                                                                                                                                     input  \\\n",
       "0  Teollisuuden Voima Oyj , the Finnish utility known as TVO , said it shortlisted Mitsubishi Heavy s EU-APWR model along with reactors from Areva , Toshiba Corp. , GE Hitachi Nuclear Energy and Kore...   \n",
       "1                                                                                                                                                Sanofi poaches AstraZeneca scientist as new research head   \n",
       "2                                                             Starbucks says the workers violated safety policies while workers said they'd never heard of the policy before and are alleging retaliation.   \n",
       "3                                                                                                                                                                            $brcm raises revenue forecast   \n",
       "4  Google parent Alphabet Inc. reported revenue and earnings that fell short of analysts' expectations, showing the company's search advertising juggernaut was not immune to a slowdown in the digital...   \n",
       "\n",
       "     output  \\\n",
       "0   neutral   \n",
       "1   neutral   \n",
       "2  negative   \n",
       "3  positive   \n",
       "4  negative   \n",
       "\n",
       "                                                                                                                                                                           instruction  \\\n",
       "0                                                                                        What is the sentiment of this news? Please choose an answer from {negative/neutral/positive}.   \n",
       "1                                                                                        What is the sentiment of this news? Please choose an answer from {negative/neutral/positive}.   \n",
       "2  What is the sentiment of this news? Please choose an answer from {strong negative/moderately negative/mildly negative/neutral/mildly positive/moderately positive/strong positive}.   \n",
       "3                                                                                       What is the sentiment of this tweet? Please choose an answer from {negative/neutral/positive}.   \n",
       "4  What is the sentiment of this news? Please choose an answer from {strong negative/moderately negative/mildly negative/neutral/mildly positive/moderately positive/strong positive}.   \n",
       "\n",
       "   length  word_count  \\\n",
       "0     225          40   \n",
       "1      57           8   \n",
       "2     140          21   \n",
       "3      29           4   \n",
       "4     237          37   \n",
       "\n",
       "                                                                                                                                                                               input_cleaned  \n",
       "0  teollisuuden voima oyj finnish utility known tvo said shortlisted mitsubishi heavy eu-apwr model along reactors areva toshiba corp ge hitachi nuclear energy korea hydro nuclear power co  \n",
       "1                                                                                                                                     sanofi poaches astrazeneca scientist new research head  \n",
       "2                                                                                 starbucks says workers violated safety policies workers said theyd never heard policy alleging retaliation  \n",
       "3                                                                                                                                                               brcm raises revenue forecast  \n",
       "4         google parentalphabet increported revenue earnings fell short analysts expectations showing companys search advertising juggernaut immune slowdown digital ad market shares fell 6  "
      ]
     },
     "execution_count": 11,
     "metadata": {},
     "output_type": "execute_result"
    }
   ],
   "source": [
    "# term frequency analysis\n",
    "## preprocess to lowercase, remove punctuation, remove stopwords\n",
    "from nltk.corpus import stopwords\n",
    "\n",
    "def preprocess_text(text):\n",
    "    text = text.lower()  # Convert to lowercase\n",
    "    text = re.sub('[^a-z A-Z 0-9-]+', '', text)  # Remove punctuation\n",
    "    text = \" \".join([word for word in text.split() if word not in stopwords.words('english')])\n",
    "    return text\n",
    "\n",
    "df_fingpt[\"input_cleaned\"] = df_fingpt[\"input\"].apply(preprocess_text)\n",
    "df_fingpt.head()"
   ]
  },
  {
   "cell_type": "code",
   "execution_count": 12,
   "id": "0244a03d",
   "metadata": {},
   "outputs": [
    {
     "data": {
      "text/html": [
       "<div>\n",
       "<style scoped>\n",
       "    .dataframe tbody tr th:only-of-type {\n",
       "        vertical-align: middle;\n",
       "    }\n",
       "\n",
       "    .dataframe tbody tr th {\n",
       "        vertical-align: top;\n",
       "    }\n",
       "\n",
       "    .dataframe thead th {\n",
       "        text-align: right;\n",
       "    }\n",
       "</style>\n",
       "<table border=\"1\" class=\"dataframe\">\n",
       "  <thead>\n",
       "    <tr style=\"text-align: right;\">\n",
       "      <th></th>\n",
       "      <th>input</th>\n",
       "      <th>output</th>\n",
       "      <th>instruction</th>\n",
       "      <th>length</th>\n",
       "      <th>word_count</th>\n",
       "      <th>input_cleaned</th>\n",
       "      <th>input_words_list</th>\n",
       "    </tr>\n",
       "  </thead>\n",
       "  <tbody>\n",
       "    <tr>\n",
       "      <th>0</th>\n",
       "      <td>Teollisuuden Voima Oyj , the Finnish utility known as TVO , said it shortlisted Mitsubishi Heavy s EU-APWR model along with reactors from Areva , Toshiba Corp. , GE Hitachi Nuclear Energy and Kore...</td>\n",
       "      <td>neutral</td>\n",
       "      <td>What is the sentiment of this news? Please choose an answer from {negative/neutral/positive}.</td>\n",
       "      <td>225</td>\n",
       "      <td>40</td>\n",
       "      <td>teollisuuden voima oyj finnish utility known tvo said shortlisted mitsubishi heavy eu-apwr model along reactors areva toshiba corp ge hitachi nuclear energy korea hydro nuclear power co</td>\n",
       "      <td>[teollisuuden, voima, oyj, finnish, utility, known, tvo, said, shortlisted, mitsubishi, heavy, eu-apwr, model, along, reactors, areva, toshiba, corp, ge, hitachi, nuclear, energy, korea, hydro, nu...</td>\n",
       "    </tr>\n",
       "    <tr>\n",
       "      <th>1</th>\n",
       "      <td>Sanofi poaches AstraZeneca scientist as new research head</td>\n",
       "      <td>neutral</td>\n",
       "      <td>What is the sentiment of this news? Please choose an answer from {negative/neutral/positive}.</td>\n",
       "      <td>57</td>\n",
       "      <td>8</td>\n",
       "      <td>sanofi poaches astrazeneca scientist new research head</td>\n",
       "      <td>[sanofi, poaches, astrazeneca, scientist, new, research, head]</td>\n",
       "    </tr>\n",
       "    <tr>\n",
       "      <th>2</th>\n",
       "      <td>Starbucks says the workers violated safety policies while workers said they'd never heard of the policy before and are alleging retaliation.</td>\n",
       "      <td>negative</td>\n",
       "      <td>What is the sentiment of this news? Please choose an answer from {strong negative/moderately negative/mildly negative/neutral/mildly positive/moderately positive/strong positive}.</td>\n",
       "      <td>140</td>\n",
       "      <td>21</td>\n",
       "      <td>starbucks says workers violated safety policies workers said theyd never heard policy alleging retaliation</td>\n",
       "      <td>[starbucks, says, workers, violated, safety, policies, workers, said, theyd, never, heard, policy, alleging, retaliation]</td>\n",
       "    </tr>\n",
       "    <tr>\n",
       "      <th>3</th>\n",
       "      <td>$brcm raises revenue forecast</td>\n",
       "      <td>positive</td>\n",
       "      <td>What is the sentiment of this tweet? Please choose an answer from {negative/neutral/positive}.</td>\n",
       "      <td>29</td>\n",
       "      <td>4</td>\n",
       "      <td>brcm raises revenue forecast</td>\n",
       "      <td>[brcm, raises, revenue, forecast]</td>\n",
       "    </tr>\n",
       "    <tr>\n",
       "      <th>4</th>\n",
       "      <td>Google parent Alphabet Inc. reported revenue and earnings that fell short of analysts' expectations, showing the company's search advertising juggernaut was not immune to a slowdown in the digital...</td>\n",
       "      <td>negative</td>\n",
       "      <td>What is the sentiment of this news? Please choose an answer from {strong negative/moderately negative/mildly negative/neutral/mildly positive/moderately positive/strong positive}.</td>\n",
       "      <td>237</td>\n",
       "      <td>37</td>\n",
       "      <td>google parentalphabet increported revenue earnings fell short analysts expectations showing companys search advertising juggernaut immune slowdown digital ad market shares fell 6</td>\n",
       "      <td>[google, parentalphabet, increported, revenue, earnings, fell, short, analysts, expectations, showing, companys, search, advertising, juggernaut, immune, slowdown, digital, ad, market, shares, fel...</td>\n",
       "    </tr>\n",
       "  </tbody>\n",
       "</table>\n",
       "</div>"
      ],
      "text/plain": [
       "                                                                                                                                                                                                     input  \\\n",
       "0  Teollisuuden Voima Oyj , the Finnish utility known as TVO , said it shortlisted Mitsubishi Heavy s EU-APWR model along with reactors from Areva , Toshiba Corp. , GE Hitachi Nuclear Energy and Kore...   \n",
       "1                                                                                                                                                Sanofi poaches AstraZeneca scientist as new research head   \n",
       "2                                                             Starbucks says the workers violated safety policies while workers said they'd never heard of the policy before and are alleging retaliation.   \n",
       "3                                                                                                                                                                            $brcm raises revenue forecast   \n",
       "4  Google parent Alphabet Inc. reported revenue and earnings that fell short of analysts' expectations, showing the company's search advertising juggernaut was not immune to a slowdown in the digital...   \n",
       "\n",
       "     output  \\\n",
       "0   neutral   \n",
       "1   neutral   \n",
       "2  negative   \n",
       "3  positive   \n",
       "4  negative   \n",
       "\n",
       "                                                                                                                                                                           instruction  \\\n",
       "0                                                                                        What is the sentiment of this news? Please choose an answer from {negative/neutral/positive}.   \n",
       "1                                                                                        What is the sentiment of this news? Please choose an answer from {negative/neutral/positive}.   \n",
       "2  What is the sentiment of this news? Please choose an answer from {strong negative/moderately negative/mildly negative/neutral/mildly positive/moderately positive/strong positive}.   \n",
       "3                                                                                       What is the sentiment of this tweet? Please choose an answer from {negative/neutral/positive}.   \n",
       "4  What is the sentiment of this news? Please choose an answer from {strong negative/moderately negative/mildly negative/neutral/mildly positive/moderately positive/strong positive}.   \n",
       "\n",
       "   length  word_count  \\\n",
       "0     225          40   \n",
       "1      57           8   \n",
       "2     140          21   \n",
       "3      29           4   \n",
       "4     237          37   \n",
       "\n",
       "                                                                                                                                                                               input_cleaned  \\\n",
       "0  teollisuuden voima oyj finnish utility known tvo said shortlisted mitsubishi heavy eu-apwr model along reactors areva toshiba corp ge hitachi nuclear energy korea hydro nuclear power co   \n",
       "1                                                                                                                                     sanofi poaches astrazeneca scientist new research head   \n",
       "2                                                                                 starbucks says workers violated safety policies workers said theyd never heard policy alleging retaliation   \n",
       "3                                                                                                                                                               brcm raises revenue forecast   \n",
       "4         google parentalphabet increported revenue earnings fell short analysts expectations showing companys search advertising juggernaut immune slowdown digital ad market shares fell 6   \n",
       "\n",
       "                                                                                                                                                                                          input_words_list  \n",
       "0  [teollisuuden, voima, oyj, finnish, utility, known, tvo, said, shortlisted, mitsubishi, heavy, eu-apwr, model, along, reactors, areva, toshiba, corp, ge, hitachi, nuclear, energy, korea, hydro, nu...  \n",
       "1                                                                                                                                           [sanofi, poaches, astrazeneca, scientist, new, research, head]  \n",
       "2                                                                                [starbucks, says, workers, violated, safety, policies, workers, said, theyd, never, heard, policy, alleging, retaliation]  \n",
       "3                                                                                                                                                                        [brcm, raises, revenue, forecast]  \n",
       "4  [google, parentalphabet, increported, revenue, earnings, fell, short, analysts, expectations, showing, companys, search, advertising, juggernaut, immune, slowdown, digital, ad, market, shares, fel...  "
      ]
     },
     "execution_count": 12,
     "metadata": {},
     "output_type": "execute_result"
    }
   ],
   "source": [
    "def corpus(text):\n",
    "    text_list = text.split()\n",
    "    return text_list\n",
    "\n",
    "df_fingpt[\"input_words_list\"] = df_fingpt[\"input_cleaned\"].apply(corpus)\n",
    "df_fingpt.head()"
   ]
  },
  {
   "cell_type": "code",
   "execution_count": 13,
   "id": "d1675682",
   "metadata": {},
   "outputs": [
    {
     "name": "stderr",
     "output_type": "stream",
     "text": [
      "100%|\u001b[32m███████████████████████████████████████████████████████████████████████████████████████████████████████\u001b[0m| 30235/30235 [00:00<00:00, 576522.54it/s]\u001b[0m\n"
     ]
    },
    {
     "data": {
      "text/plain": [
       "430921"
      ]
     },
     "execution_count": 13,
     "metadata": {},
     "output_type": "execute_result"
    }
   ],
   "source": [
    "from tqdm import trange\n",
    "\n",
    "corpus = []\n",
    "\n",
    "df_fingpt.reset_index(drop=True, inplace=True)\n",
    "\n",
    "for i in trange(df_fingpt.shape[0], ncols=150, nrows=10, colour='green', smoothing=0.8):\n",
    "    corpus += df_fingpt['input_words_list'][i]\n",
    "len(corpus)"
   ]
  },
  {
   "cell_type": "code",
   "execution_count": 14,
   "id": "188052e3",
   "metadata": {},
   "outputs": [
    {
     "data": {
      "text/plain": [
       "[('stock', 3962),\n",
       " ('stocks', 2871),\n",
       " ('company', 2443),\n",
       " ('-', 2348),\n",
       " ('market', 2284),\n",
       " ('inc', 2206),\n",
       " ('earnings', 2028),\n",
       " ('new', 2014),\n",
       " ('apple', 1980),\n",
       " ('investors', 1705)]"
      ]
     },
     "execution_count": 14,
     "metadata": {},
     "output_type": "execute_result"
    }
   ],
   "source": [
    "from collections import Counter\n",
    "\n",
    "mostCommon = Counter(corpus).most_common(10)\n",
    "mostCommon"
   ]
  },
  {
   "cell_type": "code",
   "execution_count": 15,
   "id": "1b96c9b6",
   "metadata": {},
   "outputs": [
    {
     "data": {
      "image/png": "[encoded data removed]",
      "text/plain": [
       "<Figure size 640x480 with 1 Axes>"
      ]
     },
     "metadata": {},
     "output_type": "display_data"
    }
   ],
   "source": [
    "words = []\n",
    "freq = []\n",
    "for word, count in mostCommon:\n",
    "    words.append(word)\n",
    "    freq.append(count)\n",
    "    \n",
    "sns.barplot(x=freq, y=words)\n",
    "plt.title('Top 10 Most Frequently Occuring Words')\n",
    "plt.show()"
   ]
  },
  {
   "cell_type": "code",
   "execution_count": 16,
   "id": "4b056fef",
   "metadata": {},
   "outputs": [
    {
     "data": {
      "image/png": "[encoded data removed]",
      "text/plain": [
       "<Figure size 640x480 with 1 Axes>"
      ]
     },
     "metadata": {},
     "output_type": "display_data"
    }
   ],
   "source": [
    "# Most frequent n-grams\n",
    "from sklearn.feature_extraction.text import CountVectorizer\n",
    "\n",
    "cv = CountVectorizer(ngram_range=(2,2))\n",
    "bigrams = cv.fit_transform(df_fingpt['input_cleaned'])\n",
    "\n",
    "count_values = bigrams.toarray().sum(axis=0)\n",
    "ngram_freq = pd.DataFrame(sorted([(count_values[i], k) for k, i in cv.vocabulary_.items()], reverse = True))\n",
    "ngram_freq.columns = [\"frequency\", \"ngram\"]\n",
    "\n",
    "sns.barplot(x=ngram_freq['frequency'][:10], y=ngram_freq['ngram'][:10])\n",
    "plt.title('Top 10 Most Frequently Occuring Bigrams')\n",
    "plt.show()"
   ]
  },
  {
   "cell_type": "code",
   "execution_count": 17,
   "id": "63486842",
   "metadata": {},
   "outputs": [],
   "source": [
    "cv1 = CountVectorizer(ngram_range=(3,3))\n",
    "trigrams = cv1.fit_transform(df_fingpt['input_cleaned'])\n",
    "count_values = trigrams.toarray().sum(axis=0)\n",
    "ngram_freq = pd.DataFrame(sorted([(count_values[i], k) for k, i in cv1.vocabulary_.items()], reverse = True))\n",
    "ngram_freq.columns = [\"frequency\", \"ngram\"]"
   ]
  },
  {
   "cell_type": "code",
   "execution_count": 18,
   "id": "d9303c57",
   "metadata": {},
   "outputs": [
    {
     "data": {
      "image/png": "[encoded data removed]",
      "text/plain": [
       "<Figure size 640x480 with 1 Axes>"
      ]
     },
     "metadata": {},
     "output_type": "display_data"
    }
   ],
   "source": [
    "sns.barplot(x=ngram_freq['frequency'][:10], y=ngram_freq['ngram'][:10])\n",
    "plt.title('Top 10 Most Frequently Occuring Trigrams')\n",
    "plt.show()"
   ]
  },
  {
   "cell_type": "markdown",
   "id": "90c264a9",
   "metadata": {},
   "source": [
    "### Findings\n",
    "1. Data set seems to have a large amount of duplicates but no missing values.\n",
    "2. Data set seems to be split into 3 distinct questions asked, two of which is attempting to split the output into 3 categories which the last one splits it into 7 categories. \n",
    "3. After cleaning, there is now a less balanced dataset(10362 neutral making it rather dominant, 210-220 strong negative and positive making them underrepresented)\n",
    "4. The are not a lot of outliers, and in general the dataset is about a sentence or two with the occasional outliers. The dataset seems to be right-skewed as seen by the mean being more than the median.\n",
    "\n"
   ]
  },
  {
   "cell_type": "markdown",
   "id": "78fe4291",
   "metadata": {},
   "source": [
    "### Issues affecting Model Performance Potentially\n",
    "1. Different instruction template especially with the varying sentiment granularity can cause unclear or biased objectives during training depending on how it is handled.\n",
    "2. The several imbalance in class may cause insufficient representation in the other sentiments\n",
    "3. some samples may not provide enough context along with it as the sentence length of the dataset is generally on the shorter side\n"
   ]
  },
  {
   "cell_type": "code",
   "execution_count": null,
   "id": "e529fac5",
   "metadata": {},
   "outputs": [],
   "source": [
    "# Choose 3000 samples for training randomly, keeping 30 of each outliers (both short and long texts)\n",
    "short_threshold = 30\n",
    "long_threshold = 500\n",
    "negative_normal_samples = df_fingpt[(df_fingpt[\"output\"] == \"negative\") \n",
    "                                    & df_fingpt[\"length\"].between(short_threshold, long_threshold)].sample(n = 940, random_state=13)\n",
    "positive_normal_samples = df_fingpt[(df_fingpt[\"output\"] == \"positive\") \n",
    "                                    & df_fingpt[\"length\"].between(short_threshold, long_threshold)].sample(n = 940, random_state=13)\n",
    "neutral_normal_samples = df_fingpt[(df_fingpt[\"output\"] == \"neutral\") \n",
    "                                   & df_fingpt[\"length\"].between(short_threshold, long_threshold)].sample(n = 940, random_state=13)\n",
    "\n",
    "# Add 10 long outliers from each category from the original dataset minus the normal samples\n",
    "negative_long_outliers = df_fingpt[(df_fingpt[\"output\"] == \"negative\") \n",
    "                                   & (df_fingpt[\"length\"] > long_threshold)].sample(n=10, random_state=13)\n",
    "positive_long_outliers = df_fingpt[(df_fingpt[\"output\"] == \"positive\") \n",
    "                                   & (df_fingpt[\"length\"] > long_threshold)].sample(n=10, random_state=13)\n",
    "neutral_long_outliers = df_fingpt[(df_fingpt[\"output\"] == \"neutral\") \n",
    "                                  & (df_fingpt[\"length\"] > long_threshold)].sample(n=10, random_state=13)\n",
    "\n",
    "# Add 10 short outliers from each category from the original dataset minus the normal samples\n",
    "negative_short_outliers = df_fingpt[(df_fingpt[\"output\"] == \"negative\") \n",
    "                                    & (df_fingpt[\"length\"] < short_threshold)].sample(n=10, random_state=13)\n",
    "positive_short_outliers = df_fingpt[(df_fingpt[\"output\"] == \"positive\") \n",
    "                                    & (df_fingpt[\"length\"] < short_threshold)].sample(n=10, random_state=13)\n",
    "neutral_short_outliers = df_fingpt[(df_fingpt[\"output\"] == \"neutral\") \n",
    "                                   & (df_fingpt[\"length\"] < short_threshold)].sample(n=10, random_state=13)\n",
    "\n",
    "# Combine all samples\n",
    "train_samples = pd.concat([\n",
    "    negative_normal_samples, positive_normal_samples, neutral_normal_samples,\n",
    "    negative_long_outliers, positive_long_outliers, neutral_long_outliers,\n",
    "    negative_short_outliers, positive_short_outliers, neutral_short_outliers\n",
    "])\n",
    "# Shuffle the combined samples\n",
    "train_samples = train_samples.sample(frac=1, random_state=13).reset_index(drop=True)\n",
    "\n",
    "# Save the final training dataset\n",
    "train_samples.to_csv(\"data/fingpt_train_samples.csv\", index=False)"
   ]
  },
  {
   "cell_type": "code",
   "execution_count": null,
   "id": "049a703d",
   "metadata": {},
   "outputs": [
    {
     "name": "stdout",
     "output_type": "stream",
     "text": [
      "Total validation samples: 250\n",
      "Validation sentiment distribution:\n",
      "output\n",
      "positive    84\n",
      "neutral     83\n",
      "negative    83\n",
      "Name: count, dtype: int64\n",
      "Short outliers: 9\n",
      "Long outliers: 9\n"
     ]
    }
   ],
   "source": [
    "# choose another 250 samples for validation, keeping 5 of each outliers (both short and long texts)\n",
    "\n",
    "training_indices = train_samples.index\n",
    "\n",
    "# Get all English samples not used in training\n",
    "remaining_samples = df_fingpt[~df_fingpt.index.isin(training_indices)]\n",
    "\n",
    "# 1. Normal samples (no outliers) - stratified by sentiment\n",
    "negative_normal_val = remaining_samples[(remaining_samples[\"output\"] == \"negative\") & \n",
    "                                     remaining_samples[\"length\"].between(short_threshold, long_threshold)].sample(\n",
    "                                     n=77, random_state=42)\n",
    "\n",
    "neutral_normal_val = remaining_samples[(remaining_samples[\"output\"] == \"neutral\") & \n",
    "                                    remaining_samples[\"length\"].between(short_threshold, long_threshold)].sample(\n",
    "                                    n=77, random_state=42)\n",
    "\n",
    "positive_normal_val = remaining_samples[(remaining_samples[\"output\"] == \"positive\") & \n",
    "                                     remaining_samples[\"length\"].between(short_threshold, long_threshold)].sample(\n",
    "                                     n=78, random_state=42)\n",
    "\n",
    "# 2. Short outliers - 3 for each sentiment\n",
    "negative_short_val = remaining_samples[(remaining_samples[\"output\"] == \"negative\") & \n",
    "                                    (remaining_samples[\"length\"] < short_threshold)].sample(\n",
    "                                    n=min(3, sum((remaining_samples[\"output\"] == \"negative\") & \n",
    "                                               (remaining_samples[\"length\"] < short_threshold))), \n",
    "                                    random_state=42)\n",
    "\n",
    "neutral_short_val = remaining_samples[(remaining_samples[\"output\"] == \"neutral\") & \n",
    "                                   (remaining_samples[\"length\"] < short_threshold)].sample(\n",
    "                                   n=min(3, sum((remaining_samples[\"output\"] == \"neutral\") & \n",
    "                                              (remaining_samples[\"length\"] < short_threshold))), \n",
    "                                   random_state=42)\n",
    "\n",
    "positive_short_val = remaining_samples[(remaining_samples[\"output\"] == \"positive\") & \n",
    "                                    (remaining_samples[\"length\"] < short_threshold)].sample(\n",
    "                                    n=min(3, sum((remaining_samples[\"output\"] == \"positive\") & \n",
    "                                               (remaining_samples[\"length\"] < short_threshold))), \n",
    "                                    random_state=42)\n",
    "\n",
    "# 3. Long outliers - 3 for each sentiment\n",
    "negative_long_val = remaining_samples[(remaining_samples[\"output\"] == \"negative\") & \n",
    "                                   (remaining_samples[\"length\"] > long_threshold)].sample(\n",
    "                                   n=min(3, sum((remaining_samples[\"output\"] == \"negative\") & \n",
    "                                              (remaining_samples[\"length\"] > long_threshold))), \n",
    "                                   random_state=42)\n",
    "\n",
    "neutral_long_val = remaining_samples[(remaining_samples[\"output\"] == \"neutral\") & \n",
    "                                  (remaining_samples[\"length\"] > long_threshold)].sample(\n",
    "                                  n=min(3, sum((remaining_samples[\"output\"] == \"neutral\") & \n",
    "                                             (remaining_samples[\"length\"] > long_threshold))), \n",
    "                                  random_state=42)\n",
    "\n",
    "positive_long_val = remaining_samples[(remaining_samples[\"output\"] == \"positive\") & \n",
    "                                   (remaining_samples[\"length\"] > long_threshold)].sample(\n",
    "                                   n=min(3, sum((remaining_samples[\"output\"] == \"positive\") & \n",
    "                                              (remaining_samples[\"length\"] > long_threshold))), \n",
    "                                   random_state=42)\n",
    "\n",
    "# Combine validation samples\n",
    "validation_samples = pd.concat([\n",
    "    negative_normal_val, neutral_normal_val, positive_normal_val,\n",
    "    negative_short_val, neutral_short_val, positive_short_val,\n",
    "    negative_long_val, neutral_long_val, positive_long_val\n",
    "])\n",
    "\n",
    "# Shuffle the validation samples\n",
    "validation_samples = validation_samples.sample(frac=1, random_state=42).reset_index(drop=True)\n",
    "\n",
    "# Verify distribution\n",
    "print(f\"Total validation samples: {len(validation_samples)}\")\n",
    "print(f\"Validation sentiment distribution:\\n{validation_samples['output'].value_counts()}\")\n",
    "print(f\"Short outliers: {sum(validation_samples['length'] < short_threshold)}\")\n",
    "print(f\"Long outliers: {sum(validation_samples['length'] > long_threshold)}\")\n",
    "\n",
    "# Save the validation dataset\n",
    "validation_samples.to_csv(\"data/fingpt_validation_samples.csv\", index=False)\n"
   ]
  },
  {
   "cell_type": "markdown",
   "id": "e958a47c",
   "metadata": {},
   "source": [
    "## EDA on Vietnamese Dataset"
   ]
  },
  {
   "cell_type": "code",
   "execution_count": 36,
   "id": "38bedb73",
   "metadata": {},
   "outputs": [
    {
     "name": "stdout",
     "output_type": "stream",
     "text": [
      "DatasetDict({\n",
      "    train: Dataset({\n",
      "        features: ['sentence', 'sentiment', 'topic'],\n",
      "        num_rows: 11426\n",
      "    })\n",
      "    validation: Dataset({\n",
      "        features: ['sentence', 'sentiment', 'topic'],\n",
      "        num_rows: 1583\n",
      "    })\n",
      "    test: Dataset({\n",
      "        features: ['sentence', 'sentiment', 'topic'],\n",
      "        num_rows: 3166\n",
      "    })\n",
      "})\n",
      "{'sentence': Value(dtype='string', id=None), 'sentiment': ClassLabel(names=['negative', 'neutral', 'positive'], id=None), 'topic': ClassLabel(names=['lecturer', 'training_program', 'facility', 'others'], id=None)}\n",
      "{'sentence': 'slide giáo trình đầy đủ .', 'sentiment': 2, 'topic': 1}\n"
     ]
    }
   ],
   "source": [
    "ds_viet = load_dataset(\"uitnlp/vietnamese_students_feedback\")\n",
    "\n",
    "print(ds_viet)\n",
    "print(ds_viet[\"train\"].features)\n",
    "print(ds_viet[\"train\"][0])"
   ]
  },
  {
   "cell_type": "code",
   "execution_count": 37,
   "id": "547df559",
   "metadata": {},
   "outputs": [
    {
     "name": "stdout",
     "output_type": "stream",
     "text": [
      "Total # of samples: 11426\n",
      "--------------------\n",
      "Sentiment counts:\n",
      "2    5643\n",
      "0    5325\n",
      "1     458\n",
      "Name: count, dtype: int64\n",
      "--------------------\n",
      "Topic counts:\n",
      "0    8166\n",
      "1    2201\n",
      "3     562\n",
      "2     497\n",
      "Name: count, dtype: int64\n",
      "--------------------\n",
      "Vietnamese duplicates: 0\n",
      "Vietnamese missing sentiments/topics: sentence     0\n",
      "sentiment    0\n",
      "topic        0\n",
      "dtype: int64\n"
     ]
    }
   ],
   "source": [
    "\n",
    "# some basic analysis\n",
    "print(\"Total # of samples:\", len(ds_viet[\"train\"]))\n",
    "print(\"-\" * 20)\n",
    "\n",
    "sentiment_counts_viet = pd.Series(ds_viet[\"train\"][\"sentiment\"]).value_counts()\n",
    "print(\"Sentiment counts:\")\n",
    "print(sentiment_counts_viet)\n",
    "print(\"-\" * 20)\n",
    "\n",
    "topic_counts_viet = pd.Series(ds_viet[\"train\"][\"topic\"]).value_counts()\n",
    "print(\"Topic counts:\")\n",
    "print(topic_counts_viet)\n",
    "print(\"-\" * 20)\n",
    "\n",
    "df_viet = pd.DataFrame(ds_viet[\"train\"])\n",
    "print(\"Vietnamese duplicates:\", df_viet.duplicated().sum())\n",
    "print(\"Vietnamese missing sentiments/topics:\", df_viet.isna().sum())"
   ]
  },
  {
   "cell_type": "code",
   "execution_count": null,
   "id": "4e5b4adc",
   "metadata": {},
   "outputs": [
    {
     "name": "stdout",
     "output_type": "stream",
     "text": [
      "After cleaning:\n",
      "sentiment\n",
      "positive    5643\n",
      "negative    5325\n",
      "neutral      458\n",
      "Name: count, dtype: int64\n",
      "topic\n",
      "lecturer            8166\n",
      "training_program    2201\n",
      "others               562\n",
      "facility             497\n",
      "Name: count, dtype: int64\n",
      "NaNs in sentiment: 0\n",
      "NaNs in topic: 0\n",
      "NaNs in sentence: 0\n"
     ]
    }
   ],
   "source": [
    " # mapping the numeric labels of sentiment and topic to their string representations\n",
    "sentiment_mapping = {0: \"negative\", 1: \"neutral\", 2: \"positive\"}\n",
    "topic_mapping = {0: \"lecturer\", 1: \"training_program\", 2: \"facility\", 3: \"others\"}\n",
    "\n",
    "df_viet[\"sentiment\"] = df_viet[\"sentiment\"].map(sentiment_mapping)\n",
    "df_viet[\"topic\"] = df_viet[\"topic\"].map(topic_mapping)\n",
    "\n",
    "# check data after cleaning\n",
    "print(\"After mapping:\")\n",
    "print(df_viet[\"sentiment\"].value_counts())\n",
    "print(df_viet[\"topic\"].value_counts())\n",
    "\n",
    "#check for NaNs\n",
    "print(\"NaNs in sentiment:\", df_viet[\"sentiment\"].isna().sum())\n",
    "print(\"NaNs in topic:\", df_viet[\"topic\"].isna().sum())\n",
    "print(\"NaNs in sentence:\", df_viet[\"sentence\"].isna().sum())\n"
   ]
  },
  {
   "cell_type": "code",
   "execution_count": 22,
   "id": "c00b79a8",
   "metadata": {},
   "outputs": [
    {
     "name": "stdout",
     "output_type": "stream",
     "text": [
      "Categorical summaries:\n",
      "       sentiment     topic\n",
      "count      11426     11426\n",
      "unique         3         4\n",
      "top     positive  lecturer\n",
      "freq        5643      8166\n",
      "\n",
      "Text‐length descriptive statistics:\n",
      "count    11426.000000\n",
      "mean        59.084894\n",
      "std         43.085202\n",
      "min          4.000000\n",
      "25%         31.000000\n",
      "50%         47.000000\n",
      "75%         73.000000\n",
      "max        660.000000\n",
      "Name: length, dtype: float64\n"
     ]
    },
    {
     "data": {
      "image/png": "[encoded data removed]",
      "text/plain": [
       "<Figure size 800x400 with 1 Axes>"
      ]
     },
     "metadata": {},
     "output_type": "display_data"
    }
   ],
   "source": [
    "# standard descriptive statistics\n",
    "print(\"Categorical summaries:\")\n",
    "print(df_viet[[\"sentiment\", \"topic\"]].describe())\n",
    "\n",
    "# Numeric summary on text length\n",
    "df_viet[\"length\"] = df_viet[\"sentence\"].str.len()\n",
    "print(\"\\nText‐length descriptive statistics:\")\n",
    "print(df_viet[\"length\"].describe())\n",
    "\n",
    "# Visualize length by sentiment\n",
    "plt.figure(figsize=(8,4))\n",
    "sns.boxplot(x=\"sentiment\", y=\"length\", data=df_viet)\n",
    "plt.title(\"Input length by Sentiment\")\n",
    "plt.ylabel(\"Characters\"); plt.xlabel(\"Sentiment\")\n",
    "plt.show()\n"
   ]
  },
  {
   "cell_type": "code",
   "execution_count": null,
   "id": "667191c4",
   "metadata": {},
   "outputs": [
    {
     "ename": "KeyError",
     "evalue": "'instruction'",
     "output_type": "error",
     "traceback": [
      "\u001b[31m---------------------------------------------------------------------------\u001b[39m",
      "\u001b[31mKeyError\u001b[39m                                  Traceback (most recent call last)",
      "\u001b[36mFile \u001b[39m\u001b[32m/opt/anaconda3/envs/env/lib/python3.12/site-packages/pandas/core/indexes/base.py:3805\u001b[39m, in \u001b[36mIndex.get_loc\u001b[39m\u001b[34m(self, key)\u001b[39m\n\u001b[32m   3804\u001b[39m \u001b[38;5;28;01mtry\u001b[39;00m:\n\u001b[32m-> \u001b[39m\u001b[32m3805\u001b[39m     \u001b[38;5;28;01mreturn\u001b[39;00m \u001b[38;5;28mself\u001b[39m._engine.get_loc(casted_key)\n\u001b[32m   3806\u001b[39m \u001b[38;5;28;01mexcept\u001b[39;00m \u001b[38;5;167;01mKeyError\u001b[39;00m \u001b[38;5;28;01mas\u001b[39;00m err:\n",
      "\u001b[36mFile \u001b[39m\u001b[32mindex.pyx:167\u001b[39m, in \u001b[36mpandas._libs.index.IndexEngine.get_loc\u001b[39m\u001b[34m()\u001b[39m\n",
      "\u001b[36mFile \u001b[39m\u001b[32mindex.pyx:196\u001b[39m, in \u001b[36mpandas._libs.index.IndexEngine.get_loc\u001b[39m\u001b[34m()\u001b[39m\n",
      "\u001b[36mFile \u001b[39m\u001b[32mpandas/_libs/hashtable_class_helper.pxi:7081\u001b[39m, in \u001b[36mpandas._libs.hashtable.PyObjectHashTable.get_item\u001b[39m\u001b[34m()\u001b[39m\n",
      "\u001b[36mFile \u001b[39m\u001b[32mpandas/_libs/hashtable_class_helper.pxi:7089\u001b[39m, in \u001b[36mpandas._libs.hashtable.PyObjectHashTable.get_item\u001b[39m\u001b[34m()\u001b[39m\n",
      "\u001b[31mKeyError\u001b[39m: 'instruction'",
      "\nThe above exception was the direct cause of the following exception:\n",
      "\u001b[31mKeyError\u001b[39m                                  Traceback (most recent call last)",
      "\u001b[36mCell\u001b[39m\u001b[36m \u001b[39m\u001b[32mIn[32]\u001b[39m\u001b[32m, line 3\u001b[39m\n\u001b[32m      1\u001b[39m pd.set_option(\u001b[33m'\u001b[39m\u001b[33mdisplay.max_colwidth\u001b[39m\u001b[33m'\u001b[39m, \u001b[32m200\u001b[39m)\n\u001b[32m----> \u001b[39m\u001b[32m3\u001b[39m \u001b[38;5;28;01mfor\u001b[39;00m instr \u001b[38;5;129;01min\u001b[39;00m df_viet[\u001b[33m\"\u001b[39m\u001b[33minstruction\u001b[39m\u001b[33m\"\u001b[39m].unique():\n\u001b[32m      4\u001b[39m     \u001b[38;5;28mprint\u001b[39m(\u001b[33mf\u001b[39m\u001b[33m\"\u001b[39m\u001b[33mInstruction: \u001b[39m\u001b[38;5;132;01m{\u001b[39;00minstr\u001b[38;5;132;01m}\u001b[39;00m\u001b[33m\"\u001b[39m)\n\u001b[32m      5\u001b[39m     \u001b[38;5;28mprint\u001b[39m(df_fingpt[df_fingpt[\u001b[33m\"\u001b[39m\u001b[33minstruction\u001b[39m\u001b[33m\"\u001b[39m] == instr].head(\u001b[32m5\u001b[39m))\n",
      "\u001b[36mFile \u001b[39m\u001b[32m/opt/anaconda3/envs/env/lib/python3.12/site-packages/pandas/core/frame.py:4102\u001b[39m, in \u001b[36mDataFrame.__getitem__\u001b[39m\u001b[34m(self, key)\u001b[39m\n\u001b[32m   4100\u001b[39m \u001b[38;5;28;01mif\u001b[39;00m \u001b[38;5;28mself\u001b[39m.columns.nlevels > \u001b[32m1\u001b[39m:\n\u001b[32m   4101\u001b[39m     \u001b[38;5;28;01mreturn\u001b[39;00m \u001b[38;5;28mself\u001b[39m._getitem_multilevel(key)\n\u001b[32m-> \u001b[39m\u001b[32m4102\u001b[39m indexer = \u001b[38;5;28mself\u001b[39m.columns.get_loc(key)\n\u001b[32m   4103\u001b[39m \u001b[38;5;28;01mif\u001b[39;00m is_integer(indexer):\n\u001b[32m   4104\u001b[39m     indexer = [indexer]\n",
      "\u001b[36mFile \u001b[39m\u001b[32m/opt/anaconda3/envs/env/lib/python3.12/site-packages/pandas/core/indexes/base.py:3812\u001b[39m, in \u001b[36mIndex.get_loc\u001b[39m\u001b[34m(self, key)\u001b[39m\n\u001b[32m   3807\u001b[39m     \u001b[38;5;28;01mif\u001b[39;00m \u001b[38;5;28misinstance\u001b[39m(casted_key, \u001b[38;5;28mslice\u001b[39m) \u001b[38;5;129;01mor\u001b[39;00m (\n\u001b[32m   3808\u001b[39m         \u001b[38;5;28misinstance\u001b[39m(casted_key, abc.Iterable)\n\u001b[32m   3809\u001b[39m         \u001b[38;5;129;01mand\u001b[39;00m \u001b[38;5;28many\u001b[39m(\u001b[38;5;28misinstance\u001b[39m(x, \u001b[38;5;28mslice\u001b[39m) \u001b[38;5;28;01mfor\u001b[39;00m x \u001b[38;5;129;01min\u001b[39;00m casted_key)\n\u001b[32m   3810\u001b[39m     ):\n\u001b[32m   3811\u001b[39m         \u001b[38;5;28;01mraise\u001b[39;00m InvalidIndexError(key)\n\u001b[32m-> \u001b[39m\u001b[32m3812\u001b[39m     \u001b[38;5;28;01mraise\u001b[39;00m \u001b[38;5;167;01mKeyError\u001b[39;00m(key) \u001b[38;5;28;01mfrom\u001b[39;00m\u001b[38;5;250m \u001b[39m\u001b[34;01merr\u001b[39;00m\n\u001b[32m   3813\u001b[39m \u001b[38;5;28;01mexcept\u001b[39;00m \u001b[38;5;167;01mTypeError\u001b[39;00m:\n\u001b[32m   3814\u001b[39m     \u001b[38;5;66;03m# If we have a listlike key, _check_indexing_error will raise\u001b[39;00m\n\u001b[32m   3815\u001b[39m     \u001b[38;5;66;03m#  InvalidIndexError. Otherwise we fall through and re-raise\u001b[39;00m\n\u001b[32m   3816\u001b[39m     \u001b[38;5;66;03m#  the TypeError.\u001b[39;00m\n\u001b[32m   3817\u001b[39m     \u001b[38;5;28mself\u001b[39m._check_indexing_error(key)\n",
      "\u001b[31mKeyError\u001b[39m: 'instruction'"
     ]
    }
   ],
   "source": [
    "pd.set_option('display.max_colwidth', 200)\n",
    "\n",
    "for instr in df_viet[\"\"].unique():\n",
    "    print(f\"Instruction: {instr}\")\n",
    "    print(df_fingpt[df_fingpt[\"instruction\"] == instr].head(5))\n",
    "    print(\"-\" * 20)"
   ]
  },
  {
   "cell_type": "code",
   "execution_count": 24,
   "id": "d96f62af",
   "metadata": {},
   "outputs": [
    {
     "name": "stdout",
     "output_type": "stream",
     "text": [
      "\n",
      "Vietnamese text length stats:\n",
      "count    11426.000000\n",
      "mean        59.084894\n",
      "std         43.085202\n",
      "min          4.000000\n",
      "25%         31.000000\n",
      "50%         47.000000\n",
      "75%         73.000000\n",
      "max        660.000000\n",
      "dtype: float64\n"
     ]
    }
   ],
   "source": [
    "# Text length analysis for Vietnamese dataset\n",
    "viet_text_lengths = [len(text) for text in ds_viet[\"train\"][\"sentence\"]]\n",
    "print(\"\\nVietnamese text length stats:\")\n",
    "print(pd.Series(viet_text_lengths).describe())\n"
   ]
  }
 ],
 "metadata": {
  "kernelspec": {
   "display_name": "env",
   "language": "python",
   "name": "python3"
  },
  "language_info": {
   "codemirror_mode": {
    "name": "ipython",
    "version": 3
   },
   "file_extension": ".py",
   "mimetype": "text/x-python",
   "name": "python",
   "nbconvert_exporter": "python",
   "pygments_lexer": "ipython3",
   "version": "3.12.4"
  }
 },
 "nbformat": 4,
 "nbformat_minor": 5
}
