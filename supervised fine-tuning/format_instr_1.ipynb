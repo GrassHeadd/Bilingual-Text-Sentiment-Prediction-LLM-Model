{
 "cells": [
  {
   "cell_type": "markdown",
   "id": "e0dbe9fa",
   "metadata": {},
   "source": [
    "# 2.1 Instruction Fromatting Part 1"
   ]
  },
  {
   "cell_type": "markdown",
   "id": "c232ad33",
   "metadata": {},
   "source": [
    "## Format the data"
   ]
  },
  {
   "cell_type": "markdown",
   "id": "e3f660ed",
   "metadata": {},
   "source": [
    "## Load the datasets"
   ]
  },
  {
   "cell_type": "code",
   "execution_count": 1,
   "id": "6594a48d",
   "metadata": {},
   "outputs": [],
   "source": [
    "# imports\n",
    "import pandas as pd"
   ]
  },
  {
   "cell_type": "code",
   "execution_count": 2,
   "id": "70aec1f4",
   "metadata": {},
   "outputs": [],
   "source": [
    "def load_dataset(file_path):\n",
    "    with open(file_path, 'r') as f:\n",
    "        data = pd.read_csv(file_path, encoding='utf-8-sig')\n",
    "    return pd.DataFrame(data)"
   ]
  },
  {
   "cell_type": "code",
   "execution_count": 3,
   "id": "a2bcbb26",
   "metadata": {},
   "outputs": [],
   "source": [
    "# load the datasets and process them accordingly\n",
    "viet_data =load_dataset(\"../data/vietnamese_train_samples.csv\")\n",
    "fingpt_data = load_dataset(\"../data/fingpt_train_samples.csv\")\n",
    "synthesized_data = load_dataset(\"../data/synthetic_data_generate.csv\")\n",
    "viet_data_val = load_dataset(\"../data/vietnamese_validation_samples.csv\")\n",
    "fingpt_data_val = load_dataset(\"../data/fingpt_validation_samples.csv\")"
   ]
  },
  {
   "cell_type": "markdown",
   "id": "11698ae3",
   "metadata": {},
   "source": [
    "## Data Transformation\n",
    "The library used (unsloth) requires the data to be in a certain format hence need to tranform the data into said format"
   ]
  },
  {
   "cell_type": "code",
   "execution_count": 4,
   "id": "048a295d",
   "metadata": {},
   "outputs": [],
   "source": [
    "vi_instruction = \"Phân loại cảm xúc của câu này là gì? Hãy chọn câu trả lời từ {negative/neutral/positive}.\""
   ]
  },
  {
   "cell_type": "code",
   "execution_count": 5,
   "id": "7e9e657e",
   "metadata": {},
   "outputs": [],
   "source": [
    "# transform the data to instruction format\n",
    "# 1. fingpt data\n",
    "for i in range(len(fingpt_data)):\n",
    "    input = fingpt_data['input'][i]\n",
    "    instruction = fingpt_data['instruction'][i]\n",
    "    user_msg = \"\\\"\" + input + \"\\\"\" + \" \" + instruction\n",
    "    fingpt_data.at[i, 'user_msg'] = user_msg\n",
    "\n",
    "# 2. vietnamese data\n",
    "for i in range(len(viet_data)):\n",
    "    input = viet_data['sentence'][i]\n",
    "    topic = viet_data['topic'][i]\n",
    "    user_msg = \"\\\"\" + input + \"\\\"\" + \" \" + vi_instruction + \" Đây là chủ đề: \" + topic\n",
    "    viet_data.at[i, 'user_msg'] = user_msg\n",
    "\n",
    "# 3. synthesized data\n",
    "for i in range(len(synthesized_data)):\n",
    "    input = synthesized_data['input'][i]\n",
    "    instruction = synthesized_data['instruction'][i]\n",
    "    user_msg = \"\\\"\" + input + \"\\\"\" + \" \" + instruction\n",
    "    synthesized_data.at[i, 'user_msg'] = user_msg\n",
    "\n",
    "# 4. validation vietnamese data\n",
    "for i in range(len(viet_data_val)):\n",
    "    input = viet_data_val['sentence'][i]\n",
    "    topic = viet_data_val['topic'][i]\n",
    "    user_msg = \"\\\"\" + input + \"\\\"\" + \" \" + vi_instruction + \" Đây là chủ đề: \" + topic\n",
    "    viet_data_val.at[i, 'user_msg'] = user_msg\n",
    "\n",
    "# 5. validation fingpt data\n",
    "for i in range(len(fingpt_data_val)):\n",
    "    input = fingpt_data_val['input'][i]\n",
    "    instruction = fingpt_data_val['instruction'][i]\n",
    "    user_msg = \"\\\"\" + input + \"\\\"\" + \" \" + instruction\n",
    "    fingpt_data_val.at[i, 'user_msg'] = user_msg\n"
   ]
  },
  {
   "cell_type": "code",
   "execution_count": 6,
   "id": "a20e8ce0",
   "metadata": {},
   "outputs": [],
   "source": [
    "# Clean up the dataframes to only include necessary columns\n",
    "fingpt_subset = pd.DataFrame({\n",
    "    'user_msg': fingpt_data['user_msg'],\n",
    "    'output': fingpt_data['output'],\n",
    "})\n",
    "\n",
    "viet_subset = pd.DataFrame({\n",
    "    'user_msg': viet_data['user_msg'],\n",
    "    'output': viet_data['sentiment'],\n",
    "})\n",
    "\n",
    "synth_subset = pd.DataFrame({\n",
    "    'user_msg': synthesized_data['user_msg'],\n",
    "    'output': synthesized_data['output'],\n",
    "})\n",
    "\n",
    "viet_val_subset = pd.DataFrame({\n",
    "    'user_msg': viet_data_val['user_msg'],\n",
    "    'output': viet_data_val['sentiment'],\n",
    "    'language': 'vi',\n",
    "})\n",
    "\n",
    "fingpt_val_subset = pd.DataFrame({\n",
    "    'user_msg': fingpt_data_val['user_msg'],\n",
    "    'output': fingpt_data_val['output'],\n",
    "    'language': 'eng',\n",
    "})"
   ]
  },
  {
   "cell_type": "code",
   "execution_count": 7,
   "id": "55b0ae4a",
   "metadata": {},
   "outputs": [
    {
     "data": {
      "text/html": [
       "<div>\n",
       "<style scoped>\n",
       "    .dataframe tbody tr th:only-of-type {\n",
       "        vertical-align: middle;\n",
       "    }\n",
       "\n",
       "    .dataframe tbody tr th {\n",
       "        vertical-align: top;\n",
       "    }\n",
       "\n",
       "    .dataframe thead th {\n",
       "        text-align: right;\n",
       "    }\n",
       "</style>\n",
       "<table border=\"1\" class=\"dataframe\">\n",
       "  <thead>\n",
       "    <tr style=\"text-align: right;\">\n",
       "      <th></th>\n",
       "      <th>user_msg</th>\n",
       "      <th>output</th>\n",
       "    </tr>\n",
       "  </thead>\n",
       "  <tbody>\n",
       "    <tr>\n",
       "      <th>0</th>\n",
       "      <td>\"về trễ .\" Phân loại cảm xúc của câu này là gì...</td>\n",
       "      <td>negative</td>\n",
       "    </tr>\n",
       "    <tr>\n",
       "      <th>1</th>\n",
       "      <td>\"US Stocks Rise, but Growth Concerns Linger; M...</td>\n",
       "      <td>neutral</td>\n",
       "    </tr>\n",
       "    <tr>\n",
       "      <th>2</th>\n",
       "      <td>\"cần đa dạng hóa bài tập hơn .\" Phân loại cảm ...</td>\n",
       "      <td>negative</td>\n",
       "    </tr>\n",
       "    <tr>\n",
       "      <th>3</th>\n",
       "      <td>\"The smart money may be bailing out of Amazon,...</td>\n",
       "      <td>positive</td>\n",
       "    </tr>\n",
       "    <tr>\n",
       "      <th>4</th>\n",
       "      <td>\"nội dung môn học em nghĩ là rộng quá ạ .\" Phâ...</td>\n",
       "      <td>negative</td>\n",
       "    </tr>\n",
       "  </tbody>\n",
       "</table>\n",
       "</div>"
      ],
      "text/plain": [
       "                                            user_msg    output\n",
       "0  \"về trễ .\" Phân loại cảm xúc của câu này là gì...  negative\n",
       "1  \"US Stocks Rise, but Growth Concerns Linger; M...   neutral\n",
       "2  \"cần đa dạng hóa bài tập hơn .\" Phân loại cảm ...  negative\n",
       "3  \"The smart money may be bailing out of Amazon,...  positive\n",
       "4  \"nội dung môn học em nghĩ là rộng quá ạ .\" Phâ...  negative"
      ]
     },
     "execution_count": 7,
     "metadata": {},
     "output_type": "execute_result"
    }
   ],
   "source": [
    "combined_data = pd.concat([fingpt_subset, viet_subset, synth_subset], ignore_index=True)\n",
    "combined_data = combined_data.sample(frac=1, random_state=1).reset_index(drop=True)\n",
    "combined_data.head()"
   ]
  },
  {
   "cell_type": "code",
   "execution_count": 8,
   "id": "dd033252",
   "metadata": {},
   "outputs": [
    {
     "data": {
      "text/html": [
       "<div>\n",
       "<style scoped>\n",
       "    .dataframe tbody tr th:only-of-type {\n",
       "        vertical-align: middle;\n",
       "    }\n",
       "\n",
       "    .dataframe tbody tr th {\n",
       "        vertical-align: top;\n",
       "    }\n",
       "\n",
       "    .dataframe thead th {\n",
       "        text-align: right;\n",
       "    }\n",
       "</style>\n",
       "<table border=\"1\" class=\"dataframe\">\n",
       "  <thead>\n",
       "    <tr style=\"text-align: right;\">\n",
       "      <th></th>\n",
       "      <th>user_msg</th>\n",
       "      <th>output</th>\n",
       "      <th>language</th>\n",
       "    </tr>\n",
       "  </thead>\n",
       "  <tbody>\n",
       "    <tr>\n",
       "      <th>0</th>\n",
       "      <td>\"Is Now The Time To Look At Buying Avaya Holdi...</td>\n",
       "      <td>neutral</td>\n",
       "      <td>eng</td>\n",
       "    </tr>\n",
       "    <tr>\n",
       "      <th>1</th>\n",
       "      <td>\"'Mad Money' host Jim Cramer and the 'Squawk o...</td>\n",
       "      <td>negative</td>\n",
       "      <td>eng</td>\n",
       "    </tr>\n",
       "    <tr>\n",
       "      <th>2</th>\n",
       "      <td>\"mong thầy vẫn giữa phong độ như thế ;) .\" Phâ...</td>\n",
       "      <td>neutral</td>\n",
       "      <td>vi</td>\n",
       "    </tr>\n",
       "    <tr>\n",
       "      <th>3</th>\n",
       "      <td>\"nhiệt tình , tận tâm , hài hước , famous name...</td>\n",
       "      <td>positive</td>\n",
       "      <td>vi</td>\n",
       "    </tr>\n",
       "    <tr>\n",
       "      <th>4</th>\n",
       "      <td>\"The Department of Justice could sue Apple by ...</td>\n",
       "      <td>neutral</td>\n",
       "      <td>eng</td>\n",
       "    </tr>\n",
       "  </tbody>\n",
       "</table>\n",
       "</div>"
      ],
      "text/plain": [
       "                                            user_msg    output language\n",
       "0  \"Is Now The Time To Look At Buying Avaya Holdi...   neutral      eng\n",
       "1  \"'Mad Money' host Jim Cramer and the 'Squawk o...  negative      eng\n",
       "2  \"mong thầy vẫn giữa phong độ như thế ;) .\" Phâ...   neutral       vi\n",
       "3  \"nhiệt tình , tận tâm , hài hước , famous name...  positive       vi\n",
       "4  \"The Department of Justice could sue Apple by ...   neutral      eng"
      ]
     },
     "execution_count": 8,
     "metadata": {},
     "output_type": "execute_result"
    }
   ],
   "source": [
    "combined_val_data = pd.concat([viet_val_subset, fingpt_val_subset], ignore_index=True)\n",
    "combined_val_data = combined_val_data.sample(frac=1, random_state=1).reset_index(drop=True)\n",
    "combined_val_data.head()"
   ]
  },
  {
   "cell_type": "code",
   "execution_count": 9,
   "id": "c4d41374",
   "metadata": {},
   "outputs": [],
   "source": [
    "combined_data.to_csv(\"../data/combined_data.csv\", index=False, encoding='utf-8-sig')\n",
    "combined_val_data.to_csv(\"../data/combined_val_data.csv\", index=False, encoding='utf-8-sig')"
   ]
  }
 ],
 "metadata": {
  "kernelspec": {
   "display_name": "env",
   "language": "python",
   "name": "python3"
  },
  "language_info": {
   "codemirror_mode": {
    "name": "ipython",
    "version": 3
   },
   "file_extension": ".py",
   "mimetype": "text/x-python",
   "name": "python",
   "nbconvert_exporter": "python",
   "pygments_lexer": "ipython3",
   "version": "3.12.4"
  }
 },
 "nbformat": 4,
 "nbformat_minor": 5
}
